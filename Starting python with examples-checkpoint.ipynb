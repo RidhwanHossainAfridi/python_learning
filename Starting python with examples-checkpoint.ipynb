{
 "cells": [
  {
   "cell_type": "markdown",
   "metadata": {},
   "source": [
    "# Python Ultimate Workbook"
   ]
  },
  {
   "cell_type": "code",
   "execution_count": null,
   "metadata": {},
   "outputs": [],
   "source": [
    "# Write a Python program which accepts the radius of a circle from the user and compute the area.\n",
    "\n",
    "from math import pi #we could have done pi = 3.1416\n",
    "\n",
    "radius= float(input(\"Enter the radius of the circle: \"))\n",
    "area = float(pi) * radius**2 \n",
    "print(\"The area of the circle: \" + str(area))"
   ]
  },
  {
   "cell_type": "code",
   "execution_count": null,
   "metadata": {},
   "outputs": [],
   "source": [
    "#Write a Python program which accepts the user's first and last name and print them in reverse order with a space between them.\n",
    "\n",
    "fname = str(input(\"Enter your first name: \"))\n",
    "lname = str(input(\"Enter your last name:  \"))\n",
    "\n",
    "revfname = fname[::-1] #this is the fastest way to reverse a string\n",
    "revlname = lname[::-1]\n",
    "\n",
    "print(\"The reverse of your name is: \" + revfname + \" \" + revlname)"
   ]
  },
  {
   "cell_type": "code",
   "execution_count": null,
   "metadata": {},
   "outputs": [],
   "source": [
    "#Write a Python program which accepts a sequence of comma-separated numbers from user and generate a list and a tuple with \n",
    "#those numbers.\n",
    "\n",
    "numbers = input(\"Enter the numbers: \")\n",
    "lst = numbers.split(\",\")\n",
    "tup = tuple(lst)\n",
    "tup\n"
   ]
  },
  {
   "cell_type": "code",
   "execution_count": null,
   "metadata": {},
   "outputs": [],
   "source": [
    "x = 20\n",
    "print(\" X =\",x) #this works"
   ]
  },
  {
   "cell_type": "code",
   "execution_count": null,
   "metadata": {},
   "outputs": [],
   "source": [
    "mysum = 0\n",
    "for i in range(7, 10):\n",
    "    mysum += i\n",
    "print(mysum)"
   ]
  },
  {
   "cell_type": "code",
   "execution_count": null,
   "metadata": {},
   "outputs": [],
   "source": [
    "x=int(input(\"Enter 1: \"))\n",
    "y=2\n",
    "z=2\n",
    "i=0\n",
    "while i<x :\n",
    "    print(\"It works\")\n",
    "    i += 1"
   ]
  },
  {
   "cell_type": "code",
   "execution_count": null,
   "metadata": {},
   "outputs": [],
   "source": [
    "x = int(input(\"Enter a number: \"))\n",
    "i=0\n",
    "fact=0\n",
    "while i < x:\n",
    "    fact= fact+i\n",
    "    print(fact)\n",
    "    i += 1\n",
    "    \n",
    "print(\"The number is:\", fact)"
   ]
  },
  {
   "cell_type": "code",
   "execution_count": null,
   "metadata": {},
   "outputs": [],
   "source": [
    "#write a program to calculate the factorial of an n numbers:\n",
    "\n",
    "n = int(input(\"Enter the number: \"))\n",
    "fact=1\n",
    "for i in range(n,0,-1):\n",
    "    fact=fact*i\n",
    "print(\"The factorial is:\", fact)"
   ]
  },
  {
   "cell_type": "code",
   "execution_count": null,
   "metadata": {},
   "outputs": [],
   "source": [
    "#Basics of functions in python\n",
    "\n",
    "n = int(input(\"Enter a number: \"))\n",
    "\n",
    "def fact(x):\n",
    "    for i in range(x):\n",
    "        print(101)\n",
    "        \n",
    "fact(n)"
   ]
  },
  {
   "cell_type": "code",
   "execution_count": null,
   "metadata": {},
   "outputs": [],
   "source": [
    "#Write a program to calculate the manhatten distance between two coordinates using functions in python\n",
    "\n",
    "def distance(x,y):\n",
    "    dis1 = abs(x-y)\n",
    "    return dis1\n",
    "    \n",
    "x1 = float(input(\"Enter first x coordinate: \"))\n",
    "y1 = float(input(\"Enter first y coordinate: \"))\n",
    "print(\"\\n\")\n",
    "x2 = float(input(\"Enter second x coordinate: \")) \n",
    "y2 = float(input(\"Enter second y coordinate: \"))\n",
    "print(\"\\n\")\n",
    "\n",
    "man_dis = distance(x1,y1) + distance(x2,y2)\n",
    "print(\"\\nThe Manhattan distance is:\",man_dis,\"m\")"
   ]
  },
  {
   "cell_type": "code",
   "execution_count": null,
   "metadata": {},
   "outputs": [],
   "source": [
    "# Taking lists as inputs\n",
    "# tuples are used with () and list are with [] // the elemnts of tuples cannot be modified but elements of list can be modified\n",
    "\n",
    "\n",
    "inputlist = input(\"Enter a list seperated by a (,): \")\n",
    "new = inputlist.split(\",\")\n",
    "sum = 0\n",
    "for i in new: # i increments as the values of the list e.g: if the list is 1,2,3 : i will be i=1,then i=2, then i=3\n",
    "    sum += int(i)\n",
    "print(\"The sum is:\", sum)"
   ]
  },
  {
   "cell_type": "code",
   "execution_count": null,
   "metadata": {},
   "outputs": [],
   "source": [
    "list1 = [1,2,3,4,5,6,7]\n",
    "list1.append(8) #this adds an element to the list\n",
    "print(list1)"
   ]
  },
  {
   "cell_type": "code",
   "execution_count": null,
   "metadata": {},
   "outputs": [],
   "source": [
    "list1 = [1,2,3,4,5,8]\n",
    "list2 = [0,9]\n",
    "list3 = list1 + list2 # Lists are mutable\n",
    "\n",
    "print(list3)"
   ]
  },
  {
   "cell_type": "code",
   "execution_count": null,
   "metadata": {},
   "outputs": [],
   "source": [
    "list1 = [1,2,3,4,5,8,-1]\n",
    "list2 = [0,9]\n",
    "list2.extend(list1)\n",
    "lst3 = sorted(list2) #this operator sort the list in ascending order\n",
    "list1.sort() # returns null\n",
    "print(list1)\n",
    "\n"
   ]
  },
  {
   "cell_type": "code",
   "execution_count": null,
   "metadata": {},
   "outputs": [],
   "source": [
    "list1 = [1,2,3,4,5,8]\n",
    "list2 = ['a','b']\n",
    "list2.extend(list1)\n",
    "\n",
    "print(list2)"
   ]
  },
  {
   "cell_type": "code",
   "execution_count": null,
   "metadata": {},
   "outputs": [],
   "source": [
    "#Accept two integer numbers from a user and return their product and  if the product is greater than 1000\n",
    "#then return their sum\n",
    "\n",
    "num1 = float(input(\"Enter first number: \"))\n",
    "num2 = float(input(\"Enter second number: \"))\n",
    "\n",
    "if num1*num2 > 1000:\n",
    "    print(\"The sum is: \",num1+num2)\n",
    "else:\n",
    "    print(\"The product is: \", num1*num2)"
   ]
  },
  {
   "cell_type": "code",
   "execution_count": null,
   "metadata": {},
   "outputs": [],
   "source": [
    "#Given a range of first 10 numbers, Iterate from start number to the end number and \n",
    "#print the sum of the current number and previous number\n",
    "prevnum = 0\n",
    "for i in range(11):\n",
    "    sum = prevnum +i\n",
    "    print(\"Previous num:\", prevnum,\"Current num:\", i,\" Sum:\",sum)\n",
    "    prevnum = i"
   ]
  },
  {
   "cell_type": "code",
   "execution_count": null,
   "metadata": {},
   "outputs": [],
   "source": [
    "#Write a program to find factorial of n using recursion\n",
    "def factorial(n):\n",
    "    if n == 1:\n",
    "        return 1\n",
    "    else :\n",
    "        return n * factorial (n-1)\n",
    "num1 = int(input(\"Enter a number: \"))\n",
    "print(\"The factorial is:\", factorial(num1))"
   ]
  },
  {
   "cell_type": "code",
   "execution_count": null,
   "metadata": {},
   "outputs": [],
   "source": [
    "#Write a program to find the palindrome of a number or string\n",
    "\n",
    "str1 = str(input(\"Enter to check for palindrome: \"))\n",
    "str2 = str1[::-1]\n",
    "\n",
    "def checkpali(str1):\n",
    "    if str2 == str1:\n",
    "        print(\"It is palindrome\")\n",
    "    else:\n",
    "        print(\"Not a palindrome\")\n",
    "\n",
    "checkpali(str1)       "
   ]
  },
  {
   "cell_type": "code",
   "execution_count": null,
   "metadata": {},
   "outputs": [],
   "source": [
    "# Python dictionaries\n",
    "# If i want to collect a pair of data a dictionary is a very easy way of doing so\n",
    "cgpa = {'afridi':3.96, 'sabina':3.76,'imon':3.55}\n",
    "print(cgpa)\n",
    "cgpa['israfil']=3.44 #way to add a value\n",
    "if \"afridi\" in cgpa:\n",
    "    print(\"present\") #test if an element is present\n",
    "print(cgpa)"
   ]
  },
  {
   "cell_type": "code",
   "execution_count": null,
   "metadata": {},
   "outputs": [],
   "source": [
    "name = 'afridi'\n",
    "print(\"Hello,\", name,\"Welcome\") #each comma is a space "
   ]
  },
  {
   "cell_type": "code",
   "execution_count": null,
   "metadata": {},
   "outputs": [],
   "source": [
    "print(1 + 2*3 - 8/4)"
   ]
  },
  {
   "cell_type": "code",
   "execution_count": null,
   "metadata": {},
   "outputs": [],
   "source": [
    "print(int(98.6))"
   ]
  },
  {
   "cell_type": "code",
   "execution_count": null,
   "metadata": {},
   "outputs": [],
   "source": [
    "hrs = float(input(\"Enter the hours:\"))\n",
    "rate = float(input(\"Enter the rate:\"))\n",
    "\n",
    "if hrs <= 40 :\n",
    "    pay = hrs * rate\n",
    "    print(pay)\n",
    "else: \n",
    "    pay1 = rate * 40\n",
    "    rate = rate * 1.5\n",
    "    pay2 = pay1 + rate*(hrs-40)\n",
    "    print(pay2)\n",
    "    "
   ]
  },
  {
   "cell_type": "code",
   "execution_count": null,
   "metadata": {},
   "outputs": [],
   "source": [
    "score = float(input(\"Enter Score: \"))\n",
    "if score < 0.0 or score > 1.0 :\n",
    "    print(\"Error\")\n",
    "    quit()\n",
    "\n",
    "if score >= 0.9:\n",
    "    print(\"A\")\n",
    "elif score >= 0.8:\n",
    "    print(\"B\")\n",
    "elif score >= 0.7:\n",
    "    print(\"C\")\n",
    "elif score >= 0.6 :\n",
    "    print(\"D\")\n",
    "else :\n",
    "    print(\"F\")"
   ]
  },
  {
   "cell_type": "code",
   "execution_count": null,
   "metadata": {
    "scrolled": true
   },
   "outputs": [],
   "source": [
    "hrs = float(input(\"Enter the hours:\"))\n",
    "rate = float(input(\"Enter the rate:\"))\n",
    "\n",
    "def computepay(a,b):\n",
    "    if a <= 40 :\n",
    "        return a * b\n",
    "    else: \n",
    "        pay1 = b * 40\n",
    "        b = b * 1.5\n",
    "        return pay1 + b*(a-40)\n",
    "\n",
    "computepay(hrs,rate)"
   ]
  },
  {
   "cell_type": "code",
   "execution_count": null,
   "metadata": {},
   "outputs": [],
   "source": [
    "maximum = None\n",
    "minimum = None\n",
    "count1 = 0\n",
    "count2 = 0\n",
    "print(\"Enter a list of numbers to find the maximum and minimum value & press done when you are done: \")\n",
    "while True:\n",
    "    value = input(\"Enter a value:\")\n",
    "    if value =='done':\n",
    "        print(\"Maximum is\",int(maximum))\n",
    "        print(\"Minimum is\",int(minimum))\n",
    "        break\n",
    "    try :\n",
    "        fvalue = float(value)\n",
    "    except:\n",
    "        print(\"Invalid input\")\n",
    "    if maximum is None:\n",
    "        maximum = fvalue\n",
    "    elif maximum < fvalue :\n",
    "        maximum = fvalue\n",
    "    if minimum is None:\n",
    "        minimum = fvalue\n",
    "    elif minimum > fvalue:\n",
    "        minimum = fvalue\n",
    "        "
   ]
  },
  {
   "cell_type": "code",
   "execution_count": null,
   "metadata": {},
   "outputs": [],
   "source": [
    "fruit = 'banana'\n",
    "index = 0\n",
    "while index < len(fruit): #index will start with an initial value of 0 as index is initialised 0\n",
    "    letter = fruit[index]\n",
    "    print(letter)\n",
    "    index += 1"
   ]
  },
  {
   "cell_type": "code",
   "execution_count": null,
   "metadata": {},
   "outputs": [],
   "source": [
    "fruit = 'mango'\n",
    "for i in fruit:\n",
    "    print(i)"
   ]
  },
  {
   "cell_type": "code",
   "execution_count": null,
   "metadata": {},
   "outputs": [],
   "source": [
    "# Ways of using the .lower() & .upper function\n",
    "x = 'hEllo'\n",
    "y = x.lower()\n",
    "print(y)\n",
    "print('Hi There '.lower())\n",
    "\n",
    "print(\"aFridi\".upper())"
   ]
  },
  {
   "cell_type": "code",
   "execution_count": null,
   "metadata": {},
   "outputs": [],
   "source": [
    "dir (str) # these are the 'Methods' that can be used with a string\n"
   ]
  },
  {
   "cell_type": "code",
   "execution_count": null,
   "metadata": {},
   "outputs": [],
   "source": [
    "# .capitalize() method\n",
    "x = 'afridi'\n",
    "print(x.capitalize()) #It uppercases the first letter of the word"
   ]
  },
  {
   "cell_type": "code",
   "execution_count": null,
   "metadata": {},
   "outputs": [],
   "source": [
    "# .find('string or character') method\n",
    "x = 'afridi'\n",
    "print(x.find('i')) #it will tell which index of the string it first found this\n",
    "print(x.find('m')) # -1 means that it is \"Not Found\""
   ]
  },
  {
   "cell_type": "code",
   "execution_count": null,
   "metadata": {},
   "outputs": [],
   "source": [
    "# .replace('word/letter to be replaced', 'word/letter to replace with')\n",
    "x = 'hello afridi'\n",
    "print(x.replace('afridi','sabina'))"
   ]
  },
  {
   "cell_type": "code",
   "execution_count": null,
   "metadata": {},
   "outputs": [],
   "source": [
    "# Stripping whitespaces usings .rstrip() , .lstrip() , .strip()\n",
    "\n",
    "x = '    Hello There    ' #here is a lot of spaces in the start and end we can string these spaces using .strip()\n",
    "print(x.strip())\n",
    "print(x.rstrip()) #strips spaces from the right\n",
    "print(x.lstrip()) #strips spaces from the left\n"
   ]
  },
  {
   "cell_type": "code",
   "execution_count": null,
   "metadata": {},
   "outputs": [],
   "source": [
    "# .startswith() : it is used to check the start of a string\n",
    "x = \"Hello afridi\"\n",
    "print(x.startswith('H'))\n",
    "print(x.startswith('h'))\n",
    "print(x.startswith(\"afridi\")) # it returns a true or false so can be used in if and while"
   ]
  },
  {
   "cell_type": "code",
   "execution_count": null,
   "metadata": {},
   "outputs": [],
   "source": [
    "# Prolem extarcting a piece from a phrase : Parsing & Extract\n",
    "\n",
    "str1 = 'Hi there ridhwan.hossain@northsouth.edu welcome to coursera'\n",
    "# i want to extract the northsouth.edu part\n",
    "startposition = str1.find('@')\n",
    "endposition = str1.find(' ', startposition) # here the second parameter indicates which index to start finding from\n",
    "print(\"Your desired text:\", str1[startposition+1:endposition]) #startposition+1 because we don't want the @"
   ]
  },
  {
   "cell_type": "code",
   "execution_count": null,
   "metadata": {},
   "outputs": [],
   "source": [
    "text = \"X-DSPAM-Confidence:    0.8475\";\n",
    "x = text.find(\":\")\n",
    "y = text[x+1:].strip()\n",
    "print(float(y))\n"
   ]
  },
  {
   "cell_type": "code",
   "execution_count": null,
   "metadata": {},
   "outputs": [],
   "source": [
    "# File handling with python :\n",
    "# filehandle = open(filename,mode/operation-read,write,etc) -- this give back a way to handle the file not data\n",
    "# A file handle (filehandle) is a sequence of lines where each line is the string\n",
    "#if the file has 10 lines of code the for loop will run 10 times \n",
    "# Lines are differentiated by an invisible character '\\n' which is the 'enter' we press to create each new line in a txt file\n",
    "handle = open('firstfile.txt') #the text file has 3 line\n",
    "\n",
    "count = 0\n",
    "for i in handle:\n",
    "    count += 1\n",
    "print(count)\n",
    "\n"
   ]
  },
  {
   "cell_type": "code",
   "execution_count": null,
   "metadata": {},
   "outputs": [],
   "source": [
    "handle = open('firstfile.txt')\n",
    "x = handle.read()\n",
    "print(len(x)) # all the characters present in th file incuding the new line character"
   ]
  },
  {
   "cell_type": "code",
   "execution_count": null,
   "metadata": {},
   "outputs": [],
   "source": [
    "# A new line problem in files\n",
    "handle = open('firstfile.txt')\n",
    "for i in handle:\n",
    "    if i.startswith('the') is True:\n",
    "        print(i)\n",
    "#the problem with this line is that it creates new lines as print function always adds an extra '\\n' and there is already a new \n",
    "#line present \n",
    "#solution\n",
    "\n",
    "print(\"\\n\\nSolution:\\n\")\n",
    "handle2 = open ('firstfile.txt')\n",
    "for i in handle2:\n",
    "    if i.startswith('the') is True:\n",
    "        i = i.rstrip() #rstrip strips out the \\n from the end of the line\n",
    "        print(i) #print function creates a single new line so there is only one \\n"
   ]
  },
  {
   "cell_type": "code",
   "execution_count": null,
   "metadata": {},
   "outputs": [],
   "source": [
    "# Skipping and continue technique :\n",
    "handle2 = open ('firstfile.txt')\n",
    "for i in handle2:\n",
    "    if i.startswith('the') is False:\n",
    "        continue\n",
    "    i = i.rstrip() #we are doing the exact same thing just skipping the unwanted lines\n",
    "    print(i)"
   ]
  },
  {
   "cell_type": "code",
   "execution_count": null,
   "metadata": {},
   "outputs": [],
   "source": [
    "#Prompting user for file name and working with that\n",
    "\n",
    "fname = input(\"Enter the name of the file: \")\n",
    "try:\n",
    "    fhandle = open(fname)\n",
    "except:\n",
    "    print(\"File:\",fname,'not found')\n",
    "    quit()\n",
    "    \n",
    "count = 0    \n",
    "for i in fhandle:\n",
    "    count += 1\n",
    "print(\"The file has\", count,\"lines\")\n"
   ]
  },
  {
   "cell_type": "code",
   "execution_count": null,
   "metadata": {},
   "outputs": [],
   "source": [
    "fname = input(\"Enter file name: \")\n",
    "try :\n",
    "    fhandle = open(fname)\n",
    "except:\n",
    "    print('File not found')\n",
    "    quit()\n",
    "    \n",
    "for i in fhandle:\n",
    "    j = i.upper()\n",
    "    print(j.rstrip())"
   ]
  },
  {
   "cell_type": "code",
   "execution_count": null,
   "metadata": {},
   "outputs": [],
   "source": [
    "fname = input(\"Enter file name: \") #input : mbox-short.txt\n",
    "try :\n",
    "    fhandle = open(fname)\n",
    "except:\n",
    "    print('File not found')\n",
    "    quit()\n",
    "count = 0\n",
    "l = 0\n",
    "for i in fhandle:\n",
    "    if i.startswith(\"X-DSPAM-Confidence:\") is False:\n",
    "        continue\n",
    "    count = count + 1\n",
    "    j = i.find(':')\n",
    "    y = i[j+1:]\n",
    "    m = float(y)\n",
    "    l = l + m\n",
    "print('Average spam confidence:', l/count)\n",
    "        "
   ]
  },
  {
   "cell_type": "code",
   "execution_count": null,
   "metadata": {},
   "outputs": [],
   "source": [
    "#lists\n",
    "dir (list)"
   ]
  },
  {
   "cell_type": "code",
   "execution_count": null,
   "metadata": {},
   "outputs": [],
   "source": [
    "# Lists work as same as strings:\n",
    "mylist = list() # i just created an empty list called mylist\n",
    "mylist.append('afridi') #added elements using append\n",
    "mylist.append('sabina') \n",
    "print(mylist)\n",
    "\n",
    "# in and not in operators\n",
    "print('afridi' in mylist) #this returns a boolean \n",
    "print('sabina' not in mylist)\n",
    "\n",
    "# sort() method in lists\n",
    "newlist = ['sabina','imon','afridi']\n",
    "newlist.sort() # sorts list alphabetically\n",
    "print(newlist)\n",
    "\n",
    "#split() method : It returns a list seperated by spaces in default but we can also seperate them by \n",
    "#characters numbers commas etc\n",
    "str1 = 'Hello           there my name is afridi' #alot of spaces also counts as a single space\n",
    "newlist2 = str1.split()\n",
    "print(newlist2)\n",
    "\n",
    "# for lists of integers or float we can use these functions:\n",
    "list2 = [1,2,3,4,5,6,7,8,9,10]\n",
    "print(max(list2))\n",
    "print(min(list2))\n",
    "print(sum(list2))\n"
   ]
  },
  {
   "cell_type": "code",
   "execution_count": null,
   "metadata": {},
   "outputs": [],
   "source": [
    "fhandle = open('romeo.txt')\n",
    "\n",
    "read = fhandle.read()\n",
    "mylist = read.split()\n",
    "mylist.sort()\n",
    "newlist = []\n",
    "for i in mylist:\n",
    "    if i not in newlist:\n",
    "        newlist.append(i)\n",
    "    else:\n",
    "        continue\n",
    "print(newlist)\n",
    "    \n",
    "\n",
    "\n",
    "    "
   ]
  },
  {
   "cell_type": "code",
   "execution_count": null,
   "metadata": {},
   "outputs": [],
   "source": [
    "fhandle = open('mbox-short.txt')\n",
    "count = 0\n",
    "for i in fhandle:\n",
    "    i = i.rstrip()\n",
    "    if i.startswith(\"From:\") is False:\n",
    "        continue\n",
    "    j = i.split()\n",
    "    print(j[1])\n",
    "    count = count + 1\n",
    "print(\"There were\",count,\"lines in the file with From as the first word\")\n"
   ]
  },
  {
   "cell_type": "code",
   "execution_count": null,
   "metadata": {},
   "outputs": [],
   "source": [
    "# Dictionaries in python\n",
    "\n",
    "newdic = dict() # this is how to create a new dic or we can do it manually:\n",
    "newdic2 = {'a':1,'b':2,'c':3}\n",
    "newdic['afridi'] = 1\n",
    "newdic['sabina'] = 2\n",
    "newdic['imon'] = 3\n",
    "newdic['afridi'] = 10\n",
    "print(newdic)\n",
    "print(newdic2)"
   ]
  },
  {
   "cell_type": "code",
   "execution_count": null,
   "metadata": {},
   "outputs": [],
   "source": [
    "# Dictonaries are very useful in counting the frequency of things:\n",
    "#counting the number of words:\n",
    "\n",
    "newlist = ['afridi','sabina','afridi','imon','afridi']\n",
    "newdic = dict()\n",
    "\n",
    "for i in newlist:\n",
    "    if i in newdic:\n",
    "        newdic[i] = newdic[i] + 1\n",
    "    else:\n",
    "        newdic[i] = 1\n",
    "print(newdic)"
   ]
  },
  {
   "cell_type": "code",
   "execution_count": null,
   "metadata": {},
   "outputs": [],
   "source": [
    "#Another way of doing the same problem with get() method. (get is a special method only for dictonaries)\n",
    "newlist = ['afridi','sabina','afridi','imon','afridi']\n",
    "newdic = dict()\n",
    "\n",
    "for i in newlist:\n",
    "    newdic[i] = newdic.get(i,0) + 1 \n",
    "print(newdic)\n",
    "\n",
    "# Using the .keys() ,.values() , .items()\n",
    "print(newdic.keys())\n",
    "print(newdic.values())\n",
    "print(newdic.items())\n",
    "\n"
   ]
  },
  {
   "cell_type": "code",
   "execution_count": null,
   "metadata": {},
   "outputs": [],
   "source": [
    "#we can use two iteration variables in python in for loops:\n",
    "newlist = ['afridi','sabina','afridi','imon','afridi']\n",
    "newdic = dict()\n",
    "\n",
    "for i in newlist:\n",
    "    newdic[i] = newdic.get(i,0) + 1 \n",
    "print(newdic)\n",
    "\n",
    "for i,j in newdic.items(): #here i maps to the keys and j maps to the values\n",
    "    print(i,j)\n",
    "    "
   ]
  },
  {
   "cell_type": "code",
   "execution_count": null,
   "metadata": {},
   "outputs": [],
   "source": [
    "stuff = dict()\n",
    "print(stuff.get('candy',-1))"
   ]
  },
  {
   "cell_type": "code",
   "execution_count": null,
   "metadata": {},
   "outputs": [],
   "source": [
    "fhandle = open('mbox-short.txt')\n",
    "newlist = []\n",
    "\n",
    "for i in fhandle:\n",
    "    if i.startswith('From:') is False:\n",
    "        continue\n",
    "    i = i.split()\n",
    "    newlist.append(i[1])\n",
    "\n",
    "newdict = dict()\n",
    "for key in newlist:\n",
    "    newdict[key] = newdict.get(key,0) + 1\n",
    "\n",
    "for k,v in newdict.items():\n",
    "    print(k,v)\n",
    "\n",
    "maxword = None\n",
    "maxvalue = None\n",
    "for newk, newv in newdict.items():\n",
    "    if maxword is None or newv > maxvalue:\n",
    "        maxword = newk\n",
    "        maxvalue = newv\n",
    "print(\"\\nThe most frequent email:\",maxword,\"and is\",maxvalue,\"times\")"
   ]
  },
  {
   "cell_type": "code",
   "execution_count": null,
   "metadata": {},
   "outputs": [],
   "source": [
    "# Tuples: they are more efficient than list\n",
    "x = (1,2,3) # a three element tuples it is immutable\n",
    "(a,b,c) = (1,2,4) #this is an interesting feature of tuples\n",
    "print(a)\n",
    "#for (k,v) in newdict.items(): # this is what we have done previously\n",
    "#(a,b,c,d) here a is the most significant \n",
    "#we can compare tuples with one another\n",
    "(1,2,3)<(2,3,4) #it compares 1 < 2 only \n",
    "\n",
    "# sorted function : it is for tuples\n",
    "#the sorted function sorts items according to the key of the dictonary e.g\n",
    "newdict = {'c':123,\"b\":123334,'a':28438}\n",
    "sorted(newdict.items()) #it sorts the items according to key of the dictonary"
   ]
  },
  {
   "cell_type": "code",
   "execution_count": null,
   "metadata": {},
   "outputs": [],
   "source": [
    "# Algorithm to sort the words by value with the most frequent at top\n",
    "fhandle = open('romeo.txt')\n",
    "newdict = dict()\n",
    "for i in fhandle:\n",
    "    word = i.split()\n",
    "    for key in word:\n",
    "        newdict[key] = newdict.get(key,0) + 1\n",
    "\n",
    "newlist = list()\n",
    "for key,count in newdict.items():\n",
    "    newtup = (count,key)\n",
    "    newlist.append(newtup)\n",
    "\n",
    "\n",
    "newlist = sorted(newlist, reverse=True)\n",
    "for count,key in newlist:\n",
    "    print(key,count)\n"
   ]
  },
  {
   "cell_type": "code",
   "execution_count": null,
   "metadata": {},
   "outputs": [],
   "source": [
    "x,y = 3,4\n",
    "print(y)"
   ]
  },
  {
   "cell_type": "code",
   "execution_count": null,
   "metadata": {},
   "outputs": [],
   "source": [
    "fhandle = open('mbox-short.txt')\n",
    "\n",
    "newlist = list()\n",
    "for i in fhandle:\n",
    "    if not i.startswith('From') or i.startswith('From:'):\n",
    "        continue\n",
    "    i = i.split()\n",
    "    j = i[5]\n",
    "    j = j.split(':')\n",
    "    newlist.append(j[0])\n",
    "newdict = dict()\n",
    "for key in newlist:\n",
    "    newdict[key] = newdict.get(key, 0) + 1\n",
    "for k,v in sorted(newdict.items()):\n",
    "    print(k,v)\n",
    "    \n"
   ]
  },
  {
   "cell_type": "code",
   "execution_count": null,
   "metadata": {},
   "outputs": [],
   "source": [
    "print(16 - 2 * 5 // 3 + 1)"
   ]
  },
  {
   "cell_type": "code",
   "execution_count": null,
   "metadata": {},
   "outputs": [],
   "source": [
    "# Turtle Graphics in python\n",
    "import turtle # import the turtle module\n",
    "window = turtle.Screen() # create a screen\n",
    "window.bgcolor(\"lightgreen\") #attributes to the screen\n",
    "window.delay(30)\n",
    "\n",
    "afridi = turtle.Turtle() # create the instance of Turtle under the class turtle\n",
    "afridi.shape('circle')\n",
    "afridi.color('red')\n",
    "\n",
    "afridi.up() #this method doesn't create the line which shows up\n",
    "\n",
    "afridi.price = 1000 # create attributes if you want\n",
    "\n",
    "distance = 5\n",
    "angle = 90\n",
    "\n",
    "for i in range(20):\n",
    "    afridi.stamp() #this method stamps afridi at the current location\n",
    "    afridi.forward(distance) #create methods for the Turtle\n",
    "    afridi.right(angle)\n",
    "    distance += 10\n",
    "    angle -= 2\n",
    "window.exitonclick() #this ends the program when the user clicks the screen\n",
    "\n"
   ]
  },
  {
   "cell_type": "code",
   "execution_count": null,
   "metadata": {},
   "outputs": [],
   "source": [
    "from turtle import *\n",
    "wn = Screen()\n",
    "primeturtle = Turtle()\n",
    "primeturtle.up()\n",
    "\n",
    "lower = int(input(\"Enter lower range: \"))  \n",
    "upper = int(input(\"Enter upper range: \"))\n",
    "\n",
    "primelist = []\n",
    "  \n",
    "for num in range(lower,upper + 1):  \n",
    "       if num > 1:  \n",
    "            for i in range(2,num):  \n",
    "                if (num % i) == 0:  \n",
    "                    break  \n",
    "            else:  \n",
    "                primelist.append(num) \n",
    "for i in primelist:\n",
    "    primeturtle.forward(i)\n",
    "    primeturtle.right(90)\n",
    "    primeturtle.stamp()\n"
   ]
  },
  {
   "cell_type": "code",
   "execution_count": null,
   "metadata": {},
   "outputs": [],
   "source": [
    "#string more methods:\n",
    "#.count() method\n",
    "#.index() method\n",
    "#\"to join with\".join(NameofList) method\n",
    "\n",
    "mylist = ['hello','how','are','you']\n",
    "print(' '.join(mylist)) #It joins the string with spaces\n"
   ]
  },
  {
   "cell_type": "code",
   "execution_count": null,
   "metadata": {},
   "outputs": [],
   "source": [
    "sports = ['cricket', 'football', 'volleyball', 'baseball', 'softball', 'track and field', 'curling', 'ping pong', 'hockey']\n",
    "last = sports[-3:]\n",
    "print(last)"
   ]
  },
  {
   "cell_type": "code",
   "execution_count": null,
   "metadata": {},
   "outputs": [],
   "source": [
    "by = \"You are\"\n",
    "az = \"doing a great \"\n",
    "io = \"job\"\n",
    "qy = \"keep it up!\"\n",
    "\n",
    "message = by + \" \" + az + io + \",\" + \" \" + qy\n",
    "print(message)"
   ]
  },
  {
   "cell_type": "code",
   "execution_count": null,
   "metadata": {},
   "outputs": [],
   "source": [
    "ls = ['run', 'world', 'travel', 'lights', 'moon', 'baseball', 'sea']\n",
    "new = ls[2:4]\n",
    "print(new)"
   ]
  },
  {
   "cell_type": "code",
   "execution_count": null,
   "metadata": {},
   "outputs": [],
   "source": [
    "l = ['w', '7', 0, 9]\n",
    "m = l[1]\n",
    "print(type(m))"
   ]
  },
  {
   "cell_type": "code",
   "execution_count": null,
   "metadata": {},
   "outputs": [],
   "source": [
    "b = \"My, what a lovely day\"\n",
    "x = b.split(',')\n",
    "z = \"\".join(x)\n",
    "y = z.split()\n",
    "a = \"\".join(y)\n",
    "print(type(a))"
   ]
  },
  {
   "cell_type": "code",
   "execution_count": null,
   "metadata": {},
   "outputs": [],
   "source": [
    "print(type(range(10)))"
   ]
  },
  {
   "cell_type": "code",
   "execution_count": null,
   "metadata": {},
   "outputs": [],
   "source": [
    "several_things = [\"hello\", 2, 4, 6.0, 7.5, 234352354, \"the end\", \"\", 99]\n",
    "for i in several_things:\n",
    "    print(i)\n",
    "for j in several_things:\n",
    "    print(type(j))"
   ]
  },
  {
   "cell_type": "code",
   "execution_count": null,
   "metadata": {},
   "outputs": [],
   "source": [
    "original_str = \"The quick brown rhino jumped over the extremely lazy fox.\"\n",
    "\n",
    "num_chars = 0\n",
    "for i in original_str:\n",
    "    num_chars = num_chars + 1\n",
    "print(num_chars)\n",
    "print(len(original_str))"
   ]
  },
  {
   "cell_type": "code",
   "execution_count": null,
   "metadata": {},
   "outputs": [],
   "source": [
    "addition_str = \"2+5+10+20\"\n",
    "newlist = addition_str.split('+')\n",
    "sum_val = 0\n",
    "for i in newlist:\n",
    "    i = int(i)\n",
    "    sum_val += i\n",
    "print(sum_val)"
   ]
  },
  {
   "cell_type": "code",
   "execution_count": null,
   "metadata": {},
   "outputs": [],
   "source": [
    "original_str = \"The quick brown rhino jumped over the extremely lazy fox\"\n",
    "newlist = original_str.split()\n",
    "num_words_list = []\n",
    "for i in newlist:\n",
    "    num_words_list.append(len(i))\n",
    "print(num_words_list)"
   ]
  },
  {
   "cell_type": "code",
   "execution_count": null,
   "metadata": {},
   "outputs": [],
   "source": [
    "lett = \"\"\n",
    "for i in range(7):\n",
    "    lett += 'b'\n",
    "print(lett)"
   ]
  },
  {
   "cell_type": "code",
   "execution_count": null,
   "metadata": {},
   "outputs": [],
   "source": [
    "import turtle\n",
    "wn = turtle.Screen()\n",
    "afridi = turtle.Turtle()\n",
    "dis = 100\n",
    "angle = 24\n",
    "\n",
    "for i in range(10):\n",
    "    afridi.forward(dis)\n",
    "    afridi.right(angle)\n",
    "    dis += 5\n",
    "    angle += 10\n",
    "wn.exitonclick()"
   ]
  },
  {
   "cell_type": "code",
   "execution_count": null,
   "metadata": {},
   "outputs": [],
   "source": [
    "x = 3\n",
    "y = 5\n",
    "z =2\n",
    "\n",
    "if x < y and x < z:\n",
    "    print(\"a\")\n",
    "elif y < x and y < z:\n",
    "    print(\"b\")\n",
    "else:\n",
    "    print(\"c\")"
   ]
  },
  {
   "cell_type": "code",
   "execution_count": null,
   "metadata": {},
   "outputs": [],
   "source": [
    "percent_rain = [94.3, 45, 100, 78, 16, 5.3, 79, 86]\n",
    "resps = []\n",
    "for i in percent_rain:\n",
    "    if i > 90:\n",
    "        resps.append(\"Bring an umbrella.\")\n",
    "    elif i > 80:\n",
    "        resps.append(\"Good for flowers?\")\n",
    "    elif i > 50:\n",
    "        resps.append(\"Watch out for clouds!\")\n",
    "    else:\n",
    "        resps.append(\"Nice day!\")\n",
    "print(resps)"
   ]
  },
  {
   "cell_type": "code",
   "execution_count": null,
   "metadata": {},
   "outputs": [],
   "source": [
    "print(\"V\\n\\na\\n\\ne\\n\\nr\\n\\ny\\n\\nG\\n\\no\\n\\no\\n\\nd\\n\\ns\\n\\np\\n\\ne\\n\\nc\\n\\ni\\n\\na\\n\\nl\\n\\ni\\n\\nz\\n\\na\\n\\nt\\n\\ni\\n\\no\\n\\nn\\n\\nf\\n\\no\\n\\nr\\n\\np\\n\\ny\\n\\nt\\n\\nh\\n\\no\\n\\nn\\n\\n3\")"
   ]
  },
  {
   "cell_type": "code",
   "execution_count": null,
   "metadata": {},
   "outputs": [],
   "source": [
    "words = [\"adopt\", \"bake\", \"beam\", \"confide\", \"grill\", \"plant\", \"time\", \"wave\", \"wish\"]\n",
    "past_tense = []\n",
    "for i in words:\n",
    "    if i[-1] == 'e':\n",
    "        i += 'd'\n",
    "        past_tense.append(i)\n",
    "    else:\n",
    "        i += 'ed'\n",
    "        past_tense.append(i)\n",
    "print(past_tense)"
   ]
  },
  {
   "cell_type": "code",
   "execution_count": null,
   "metadata": {},
   "outputs": [],
   "source": [
    "rainfall_mi = \"1.65, 1.46, 2.05, 3.03, 3.35, 3.46, 2.83, 3.23, 3.5, 2.52, 2.8, 1.85\"\n",
    "newlist = rainfall_mi.split(\", \")\n",
    "num_rainy_months = 0\n",
    "for i in newlist:\n",
    "    i = float(i)\n",
    "    if i > 3.0:\n",
    "        num_rainy_months += 1\n",
    "print(num_rainy_months)"
   ]
  },
  {
   "cell_type": "code",
   "execution_count": null,
   "metadata": {},
   "outputs": [],
   "source": [
    "sentence = \"students flock to the arb for a variety of outdoor activities such as jogging and picnicking\"\n",
    "\n",
    "# Write your code here.\n",
    "\n",
    "newlist = sentence.split()\n",
    "same_letter_count = 0\n",
    "for i in newlist:\n",
    "    if i[0] == i[-1]:\n",
    "        same_letter_count += 1\n",
    "print(same_letter_count)\n"
   ]
  },
  {
   "cell_type": "code",
   "execution_count": null,
   "metadata": {},
   "outputs": [],
   "source": [
    "items = [\"whirring\", \"wow!\", \"calendar\", \"wry\", \"glass\", \"\", \"llama\",\"tumultuous\",\"owing\"]\n",
    "acc_num = 0\n",
    "for i in items:\n",
    "    if 'w' in i:\n",
    "        acc_num += 1\n",
    "print(acc_num)"
   ]
  },
  {
   "cell_type": "code",
   "execution_count": null,
   "metadata": {},
   "outputs": [],
   "source": [
    "sentence = \"python is a high level general purpose programming language that can be applied to many different classes of problems.\"\n",
    "newlist = sentence.split()\n",
    "num_a_or_e = 0\n",
    "for i in newlist:\n",
    "    if ('a' in i) or ('e' in i):\n",
    "        num_a_or_e += 1\n",
    "print(num_a_or_e)"
   ]
  },
  {
   "cell_type": "code",
   "execution_count": null,
   "metadata": {},
   "outputs": [],
   "source": [
    "s = \"singing in the rain and playing in the rain are two entirely different situations but both can be fun\"\n",
    "vowels = ['a','e','i','o','u']\n",
    "\n",
    "# Write your code here.\n",
    "num_vowels = 0\n",
    "newlist = s.split()\n",
    "newstr = ''.join(newlist)\n",
    "for i in newstr:\n",
    "        for j in vowels:\n",
    "            if j in i:\n",
    "                num_vowels +=1\n",
    "print(num_vowels)\n",
    "print(newstr)\n"
   ]
  },
  {
   "cell_type": "code",
   "execution_count": null,
   "metadata": {},
   "outputs": [],
   "source": [
    "# to delete items from a list we use the del function e.g\n",
    "list1 = [1,2,3,4,6,6,65,4,3,3,4,5,4,5,2]\n",
    "del list1[0] #using del function\n",
    "print(list1)\n",
    "del list1[0:5]\n",
    "print(list1)"
   ]
  },
  {
   "cell_type": "code",
   "execution_count": null,
   "metadata": {},
   "outputs": [],
   "source": [
    "sent = \"The mall has excellent sales right now.\"\n",
    "wrds = sent.split()\n",
    "wrds[1] = 'store'\n",
    "new_sent = \" \".join(wrds)"
   ]
  },
  {
   "cell_type": "code",
   "execution_count": null,
   "metadata": {},
   "outputs": [],
   "source": [
    "#.format method:\n",
    "\n",
    "a = 10\n",
    "b = 'afridi'\n",
    "\n",
    "print('hello {}, your score is {}'.format(b,a))"
   ]
  },
  {
   "cell_type": "code",
   "execution_count": null,
   "metadata": {},
   "outputs": [],
   "source": [
    "a = 5\n",
    "b = 9\n",
    "setStr = 'The set is {{{},{}}}.'.format(a, b)\n",
    "print(setStr)"
   ]
  },
  {
   "cell_type": "code",
   "execution_count": null,
   "metadata": {},
   "outputs": [],
   "source": [
    "#Rounding up\n",
    "h = 1.26734726348\n",
    "print(\"{:.1f}\".format(h))\n",
    "print(\"{:.0f}\".format(h)) #Rounding up"
   ]
  },
  {
   "cell_type": "code",
   "execution_count": null,
   "metadata": {},
   "outputs": [],
   "source": [
    "sports = ['cricket', 'football', 'volleyball', 'baseball', 'softball', 'track and field', 'curling', 'ping pong', 'hockey']\n",
    "\n",
    "sports.insert(2,'horseback riding')\n",
    "print(sports)"
   ]
  },
  {
   "cell_type": "code",
   "execution_count": null,
   "metadata": {},
   "outputs": [],
   "source": [
    "trav_dest = ['Beirut', 'Milan', 'Pittsburgh', 'Buenos Aires', 'Nairobi', 'Kathmandu', 'Osaka', 'London', 'Melbourne']\n",
    "\n",
    "trav_dest.remove('London')\n",
    "print(trav_dest)"
   ]
  },
  {
   "cell_type": "code",
   "execution_count": null,
   "metadata": {},
   "outputs": [],
   "source": [
    "winners = ['Alice Munro', 'Alvin E. Roth', 'Kazuo Ishiguro', 'Malala Yousafzai', 'Rainer Weiss', 'Youyou Tu']\n",
    "winners.reverse()\n",
    "print(winners)"
   ]
  },
  {
   "cell_type": "code",
   "execution_count": null,
   "metadata": {},
   "outputs": [],
   "source": [
    "numbs = [5, 10, 15, 20, 25]\n",
    "j=0\n",
    "for i in numbs:\n",
    "    if j <= len(numbs):\n",
    "        numbs[j] = numbs[j] + 5\n",
    "        j += 1\n",
    "    else:\n",
    "        break\n",
    "print(numbs)"
   ]
  },
  {
   "cell_type": "code",
   "execution_count": null,
   "metadata": {},
   "outputs": [],
   "source": [
    "\n",
    "output = 1\n",
    "for i in range(35):\n",
    "    output += 1\n",
    "#print(len(output))"
   ]
  },
  {
   "cell_type": "code",
   "execution_count": null,
   "metadata": {},
   "outputs": [],
   "source": [
    "a = [\"holiday\", \"celebrate!\"]\n",
    "quiet = a\n",
    "quiet.append(\"company\")\n",
    "print(a)"
   ]
  },
  {
   "cell_type": "code",
   "execution_count": null,
   "metadata": {},
   "outputs": [],
   "source": [
    "ael = \"python!\"\n",
    "app = []\n",
    "for i in ael:\n",
    "    app.append(i)\n",
    "print(app)"
   ]
  },
  {
   "cell_type": "code",
   "execution_count": null,
   "metadata": {},
   "outputs": [],
   "source": [
    "wrds = [\"end\", 'work', \"play\", \"start\", \"walk\", \"look\", \"open\", \"rain\", \"learn\", \"clean\"]\n",
    "past_wrds = []\n",
    "for i in wrds:\n",
    "    past_wrds.append(i+'ed')\n",
    "print(past_wrds)"
   ]
  },
  {
   "cell_type": "code",
   "execution_count": null,
   "metadata": {},
   "outputs": [],
   "source": [
    "\n",
    "\n",
    "scores = \"67 80 90 78 93 20 79 89 96 97 92 88 79 68 58 90 98 100 79 74 83 88 80 86 85 70 90 100\"\n",
    "a_scores = 0\n",
    "for i in scores.split():\n",
    "    i = int(i)\n",
    "    if i >= 90:\n",
    "        a_scores += 1\n",
    "print(a_scores)"
   ]
  },
  {
   "cell_type": "code",
   "execution_count": null,
   "metadata": {},
   "outputs": [],
   "source": [
    "stopwords = ['to', 'a', 'for', 'by', 'an', 'am', 'the', 'so', 'it', 'and', \"The\"]\n",
    "org = \"The organization for health, safety, and education\"\n",
    "acro = ''\n",
    "newlist = org.split()\n",
    "for i in newlist:\n",
    "    if i not in stopwords:\n",
    "        acro = acro + i[0]\n",
    "acro.upper()\n",
    "    "
   ]
  },
  {
   "cell_type": "code",
   "execution_count": null,
   "metadata": {},
   "outputs": [],
   "source": [
    "stopwords = ['to', 'a', 'for', 'by', 'an', 'am', 'the', 'so', 'it', 'and', 'The']\n",
    "sent = \"The water earth and air are vital\"\n",
    "acro = ''\n",
    "newlist = sent.split()\n",
    "for i in newlist:\n",
    "    if i not in stopwords:\n",
    "        if i != newlist[-1]:\n",
    "            acro = acro + i[0] + i[1] + '. '\n",
    "        else:\n",
    "            acro = acro + i[0] + i[1]\n",
    "acro = acro.upper()\n",
    "print(acro)"
   ]
  },
  {
   "cell_type": "code",
   "execution_count": null,
   "metadata": {},
   "outputs": [],
   "source": [
    "p_phrase = \"was it a car or a cat I saw\"\n",
    "newlist = p_phrase.split()\n",
    "rev = []\n",
    "for i in newlist:\n",
    "    rev.append(i[::-1])\n",
    "rev.reverse()\n",
    "r_phrase = ' '.join(rev)\n",
    "print(r_phrase)\n",
    "    "
   ]
  },
  {
   "cell_type": "code",
   "execution_count": null,
   "metadata": {},
   "outputs": [],
   "source": [
    "inventory = [\"shoes, 12, 29.99\", \"shirts, 20, 9.99\", \"sweatpants, 25, 15.00\", \"scarves, 13, 7.75\"]\n",
    "newlist = []\n",
    "for i in inventory:\n",
    "    newlist = i.split(', ')\n",
    "    print('The store has {} {}, each for {} USD.'.format(newlist[1],newlist[0],newlist[2]))"
   ]
  },
  {
   "cell_type": "code",
   "execution_count": null,
   "metadata": {},
   "outputs": [],
   "source": [
    "from random import *\n",
    "r = randrange(1,101) #this will generate a random number between 1 to 100(inclusive)\n",
    "r2 = random() #this will generate a random number between 0 and 1\n",
    "print(r,r2)"
   ]
  },
  {
   "cell_type": "code",
   "execution_count": null,
   "metadata": {},
   "outputs": [],
   "source": [
    "#files:\n",
    "# .read() method : returns the whole text as a single string\n",
    "# .readline() method : returns a single line if no arguement. if added an argument it will return that number of characters\n",
    "fhandle = open('words.txt', 'r')\n",
    "#contents = fhandle.readline(40)\n",
    "contents2 = fhandle.readlines() #returns a list of all the lines\n",
    "print(contents)\n",
    "print(contents2)\n",
    "fhandle.close()"
   ]
  },
  {
   "cell_type": "code",
   "execution_count": null,
   "metadata": {},
   "outputs": [],
   "source": [
    "#paths to find files:\n",
    "# use relative path for coding : open('../myfile/data.txt', 'r') here '..' means back 1 folder\n",
    "#advantages of relative path that it is portable\n",
    "#root directories start with '/'"
   ]
  },
  {
   "cell_type": "code",
   "execution_count": null,
   "metadata": {},
   "outputs": [],
   "source": [
    "#Write to a file or creating new file:\n",
    "fhandle = open('square.txt' ,'w') #this will create a new file if it doesnt exist and also if a file containing data is opened\n",
    "#in write mode it will delete the existing data in the file. So use write method to create new files\n",
    "j = 0\n",
    "for i in range(100):\n",
    "    square = i * i\n",
    "    if i % 10 != 0:\n",
    "        fhandle.write(str(square)+'\\t') #beautiful alignment technique\n",
    "    else:\n",
    "        fhandle.write('\\n')\n",
    "        fhandle.write(str(square) + '\\t')\n",
    "    print(square)\n",
    "    \n",
    "fhandle.close()"
   ]
  },
  {
   "cell_type": "code",
   "execution_count": null,
   "metadata": {},
   "outputs": [],
   "source": [
    "fhandle = open('words.txt','r')\n",
    "p_words = []\n",
    "for i in fhandle:\n",
    "    i = i.strip().split()\n",
    "    for j in i:\n",
    "        if ('p' in j) or ('a' in j):\n",
    "            p_words.append(j)\n",
    "        else:\n",
    "            continue\n",
    "fhandle.close()\n",
    "print(p_words)\n",
    "    \n",
    "\n"
   ]
  },
  {
   "cell_type": "code",
   "execution_count": null,
   "metadata": {},
   "outputs": [],
   "source": [
    "sally = \"sally sells sea shells by the sea shore and by the road\"\n",
    "characters = {}\n",
    "for i in sally:\n",
    "    if i not in characters:\n",
    "        characters[i] = 0\n",
    "    characters[i] = characters[i] + 1\n",
    "keys = list(characters.keys())\n",
    "worst_char = keys[0]\n",
    "for key in keys:\n",
    "    if characters[key] > characters[worst_char]:\n",
    "        worst_char = key"
   ]
  },
  {
   "cell_type": "code",
   "execution_count": null,
   "metadata": {},
   "outputs": [],
   "source": [
    "string1 = \"There is a tide in the affairs of men, Which taken at the flood, leads on to fortune. Omitted, all the voyage of their life is bound in shallows and in miseries. On such a full sea are we now afloat. And we must take the current when it serves, or lose our ventures.\"\n",
    "letter_counts = {}\n",
    "s = string1.lower()\n",
    "print(s)"
   ]
  },
  {
   "cell_type": "code",
   "execution_count": null,
   "metadata": {},
   "outputs": [],
   "source": [
    "def sublist (lst): #this was a diifcult problem to solve\n",
    "    c  = 0\n",
    "    lst2 = []\n",
    "    while len(lst) > c:\n",
    "        if lst[c] != 5:\n",
    "            lst2.append(lst[c])\n",
    "            c += 1\n",
    "        elif lst[c] == 5:\n",
    "            break\n",
    "        else:\n",
    "            c+=1\n",
    "    return lst2\n",
    "print(sublist([1,2,3,4,5,6,7]))\n",
    "        "
   ]
  },
  {
   "cell_type": "code",
   "execution_count": null,
   "metadata": {},
   "outputs": [],
   "source": [
    "# Optional parameters:\n",
    "def fun(x, y = 5, d =[], l = {}): # Here y,d,l are optional parameter if not specified it will use the default value\n",
    "    \n",
    "    return x * y\n",
    "print(fun (5))"
   ]
  },
  {
   "cell_type": "code",
   "execution_count": null,
   "metadata": {},
   "outputs": [],
   "source": [
    "# lambda function:\n",
    "def fun (x,y):\n",
    "    return x * y * 2\n",
    "#Now we will create the same function above using lambda\n",
    "fun = lambda x , y: x * y * 2  #here x,y is input parameters and x*y*2 is the return value"
   ]
  },
  {
   "cell_type": "code",
   "execution_count": null,
   "metadata": {},
   "outputs": [],
   "source": [
    "#Sorting :\n",
    "lst = [1,2,342,2234,432,234,234,5,566,53,8]\n",
    "lst2 = sorted(lst)\n",
    "print(lst)\n",
    "lst3 = sorted (lst, reverse =True)\n",
    "print(lst3)\n",
    "lst4 = sorted(lst,key = lambda x : str(x)[0]) #modified sorting : we can also use  a function like key =fun\n",
    "print(lst4)"
   ]
  },
  {
   "cell_type": "code",
   "execution_count": null,
   "metadata": {},
   "outputs": [],
   "source": [
    "lst = [9,8,7,6,5,4,3,2,1,-2,10,889,9,123]\n",
    "mydict = {}\n",
    "for i in lst:\n",
    "    if i not in mydict:\n",
    "        mydict[i] = 0\n",
    "    mydict[i] = mydict[i] +1\n",
    "print(mydict) \n",
    "#sorting this dictionary by key:\n",
    "for k in sorted(mydict): #sorting with keys\n",
    "    print(k)\n",
    "for m in sorted(mydict.keys(), key = lambda x : mydict[x]):\n",
    "    print(m)\n",
    "\n",
    "\n"
   ]
  },
  {
   "cell_type": "code",
   "execution_count": null,
   "metadata": {},
   "outputs": [],
   "source": [
    "states = {\"Minnesota\": [\"St. Paul\", \"Minneapolis\", \"Saint Cloud\", \"Stillwater\"],\n",
    "          \"Michigan\": [\"Ann Arbor\", \"Traverse City\", \"Lansing\", \"Kalamazoo\"],\n",
    "          \"Washington\": [\"Seattle\", \"Tacoma\", \"Olympia\", \"Vancouver\"]}\n",
    "\n",
    "print(sorted(states, key=lambda state: len(states[state][0])))\n"
   ]
  },
  {
   "cell_type": "code",
   "execution_count": null,
   "metadata": {},
   "outputs": [],
   "source": [
    "def s_cities_count(city_list):\n",
    "    ct = 0\n",
    "    for city in city_list:\n",
    "        if city[0] == \"S\":\n",
    "            ct += 1\n",
    "    return ct\n",
    "\n",
    "states = {\"Minnesota\": [\"St. Paul\", \"Minneapolis\", \"Saint Cloud\", \"Stillwater\"],\n",
    "          \"Michigan\": [\"Ann Arbor\", \"Traverse City\", \"Lansing\", \"Kalamazoo\"],\n",
    "          \"Washington\": [\"Seattle\", \"Tacoma\", \"Olympia\", \"Vancouver\"]}\n",
    "\n",
    "print(sorted(states, key=lambda state: s_cities_count(states[state])))\n"
   ]
  },
  {
   "cell_type": "code",
   "execution_count": null,
   "metadata": {},
   "outputs": [],
   "source": [
    "def strip_punctuation(str1):\n",
    "    punctuation_chars = [\"'\", '\"', \",\", \".\", \"!\", \":\", \";\", '#', '@']\n",
    "    lst1 = []\n",
    "    for i in str1:\n",
    "        lst1.append(i)\n",
    "    lst2 = []\n",
    "    for j in lst1:\n",
    "        if j in punctuation_chars:\n",
    "            continue\n",
    "        lst2.append(j)\n",
    "    str2 = ''.join(lst2)\n",
    "    return str2\n",
    "print(strip_punctuation('#Amazing'))"
   ]
  },
  {
   "cell_type": "code",
   "execution_count": null,
   "metadata": {},
   "outputs": [],
   "source": [
    "def get_pos(str3):\n",
    "    #Getting the list of positive words\n",
    "    punctuation_chars = [\"'\", '\"', \",\", \".\", \"!\", \":\", \";\", '#', '@']\n",
    "    positive_words = []\n",
    "    with open(\"positive_words.txt\") as pos_f:\n",
    "        for lin in pos_f:\n",
    "            if lin[0] != ';' and lin[0] != '\\n':\n",
    "                positive_words.append(lin.strip())\n",
    "    def strip_punctuation(str1):\n",
    "        punctuation_chars = [\"'\", '\"', \",\", \".\", \"!\", \":\", \";\", '#', '@']\n",
    "        lst1 = []\n",
    "        for i in str1:\n",
    "            lst1.append(i)\n",
    "        lst2 = []\n",
    "        words = []\n",
    "        for j in lst1:\n",
    "            if j in punctuation_chars:\n",
    "                continue\n",
    "            lst2.append(j)\n",
    "        str2 = ''.join(lst2)\n",
    "        return str2\n",
    "    for str4 in positive word:\n",
    "        str5 = strip_punctuation(str4)\n",
    "        str5 = str5.lower()\n",
    "        str5 = str5.strip().split()  \n",
    "        c = 0\n",
    "        for i in str5:\n",
    "            i = i.lower()\n",
    "            if i in positive_words:\n",
    "                c = c + 1\n",
    "    return c"
   ]
  },
  {
   "cell_type": "code",
   "execution_count": null,
   "metadata": {},
   "outputs": [],
   "source": [
    " def strip_punctuation(str1):\n",
    "        punctuation_chars = [\"'\", '\"', \",\", \".\", \"!\", \":\", \";\", '#', '@']\n",
    "        lst1 = []\n",
    "        for i in str1:\n",
    "            lst1.append(i)\n",
    "        lst2 = []\n",
    "        words = []\n",
    "        for j in lst1:\n",
    "            if j in punctuation_chars:\n",
    "                continue\n",
    "            lst2.append(j)\n",
    "        str2 = ''.join(lst2)\n",
    "        return str2"
   ]
  },
  {
   "cell_type": "code",
   "execution_count": null,
   "metadata": {},
   "outputs": [],
   "source": [
    "def get_pos(str3):\n",
    "    positive_words = ['amazing', 'hello']\n",
    "\n",
    "    def strip_punctuation(str1):\n",
    "        punctuation_chars = [\"'\", '\"', \",\", \".\", \"!\", \":\", \";\", '#', '@']\n",
    "        lst1 = []\n",
    "        for i in str1:\n",
    "            lst1.append(i)\n",
    "        lst2 = []\n",
    "        words = []\n",
    "        for j in lst1:\n",
    "            if j in punctuation_chars:\n",
    "                continue\n",
    "            lst2.append(j)\n",
    "        str2 = ''.join(lst2)\n",
    "        return str2\n",
    "    lst3 = str3.split()\n",
    "    count1 = 0\n",
    "    for str4 in lst3:\n",
    "        str5 = strip_punctuation(str4)\n",
    "        print(str5)\n",
    "        str5 = str5.lower()\n",
    "        for str6 in positive_words:\n",
    "            print(str6)\n",
    "            if str5 == str6:\n",
    "                count1 += 1\n",
    "                print(count1)\n",
    "            else:\n",
    "                continue\n",
    "    return count1"
   ]
  },
  {
   "cell_type": "code",
   "execution_count": null,
   "metadata": {},
   "outputs": [],
   "source": [
    "#The second part: Answer\n",
    "def get_pos(str3):\n",
    "    #Getting the list of positive words\n",
    "    punctuation_chars = [\"'\", '\"', \",\", \".\", \"!\", \":\", \";\", '#', '@']\n",
    "    positive_words = []\n",
    "    with open(\"positive_words.txt\") as pos_f:\n",
    "        for lin in pos_f:\n",
    "            if lin[0] != ';' and lin[0] != '\\n':\n",
    "                positive_words.append(lin.strip())\n",
    "    def strip_punctuation(str1):\n",
    "        punctuation_chars = [\"'\", '\"', \",\", \".\", \"!\", \":\", \";\", '#', '@']\n",
    "        lst1 = []\n",
    "        for i in str1:\n",
    "            lst1.append(i)\n",
    "        lst2 = []\n",
    "        words = []\n",
    "        for j in lst1:\n",
    "            if j in punctuation_chars:\n",
    "                continue\n",
    "            lst2.append(j)\n",
    "        str2 = ''.join(lst2)\n",
    "        return str2\n",
    "    lst3 = str3.split()\n",
    "    count1 = 0\n",
    "    for str4 in lst3:\n",
    "        str5 = strip_punctuation(str4)\n",
    "        str5 = str5.lower()\n",
    "        for str6 in positive_words:\n",
    "            if str5 == str6:\n",
    "                count1 += 1\n",
    "            else:\n",
    "                continue\n",
    "    return count1\n"
   ]
  },
  {
   "cell_type": "code",
   "execution_count": null,
   "metadata": {},
   "outputs": [],
   "source": [
    "#The second part: Answer\n",
    "def get_pos(str3):\n",
    "    #Getting the list of positive words\n",
    "    punctuation_chars = [\"'\", '\"', \",\", \".\", \"!\", \":\", \";\", '#', '@']\n",
    "    positive_words = []\n",
    "    with open(\"positive_words.txt\") as pos_f:\n",
    "        for lin in pos_f:\n",
    "            if lin[0] != ';' and lin[0] != '\\n':\n",
    "                positive_words.append(lin.strip())\n",
    "    def strip_punctuation(str1):\n",
    "        punctuation_chars = [\"'\", '\"', \",\", \".\", \"!\", \":\", \";\", '#', '@']\n",
    "        lst1 = []\n",
    "        for i in str1:\n",
    "            lst1.append(i)\n",
    "        lst2 = []\n",
    "        words = []\n",
    "        for j in lst1:\n",
    "            if j in punctuation_chars:\n",
    "                continue\n",
    "            lst2.append(j)\n",
    "        str2 = ''.join(lst2)\n",
    "        return str2\n",
    "    lst3 = str3.split()\n",
    "    count1 = 0\n",
    "    for str4 in lst3:\n",
    "        str5 = strip_punctuation(str4)\n",
    "        str5 = str5.lower()\n",
    "        for str6 in positive_words:\n",
    "            if str5 == str6:\n",
    "                count1 += 1\n",
    "            else:\n",
    "                continue\n",
    "    return count1\n"
   ]
  },
  {
   "cell_type": "code",
   "execution_count": null,
   "metadata": {},
   "outputs": [],
   "source": [
    "def get_pos(str3):\n",
    "    #Getting the list of positive words\n",
    "    punctuation_chars = [\"'\", '\"', \",\", \".\", \"!\", \":\", \";\", '#', '@']\n",
    "    positive_words = []\n",
    "    with open(\"positive_words.txt\") as pos_f:\n",
    "        for lin in pos_f:\n",
    "            if lin[0] != ';' and lin[0] != '\\n':\n",
    "                positive_words.append(lin.strip())\n",
    "    def strip_punctuation(str1):\n",
    "        punctuation_chars = [\"'\", '\"', \",\", \".\", \"!\", \":\", \";\", '#', '@']\n",
    "        lst1 = []\n",
    "        for i in str1:\n",
    "            lst1.append(i)\n",
    "        lst2 = []\n",
    "        words = []\n",
    "        for j in lst1:\n",
    "            if j in punctuation_chars:\n",
    "                continue\n",
    "            lst2.append(j)\n",
    "        str2 = ''.join(lst2)\n",
    "        return str2\n",
    "    lst3 = str3.split()\n",
    "    count1 = 0\n",
    "    for str4 in lst3:\n",
    "        str5 = strip_punctuation(str4)\n",
    "        str5 = str5.lower()\n",
    "        for str6 in positive_words:\n",
    "            if str5 == str6:\n",
    "                count1 += 1\n",
    "            else:\n",
    "                continue\n",
    "    return count1\n",
    "\n",
    "\n",
    "def get_neg(str3):\n",
    "    punctuation_chars = [\"'\", '\"', \",\", \".\", \"!\", \":\", \";\", '#', '@']\n",
    "    negative_words = []\n",
    "    with open(\"negative_words.txt\") as pos_f:\n",
    "        for lin in pos_f:\n",
    "            if lin[0] != ';' and lin[0] != '\\n':\n",
    "                negative_words.append(lin.strip())\n",
    "    def strip_punctuation(str1):\n",
    "        punctuation_chars = [\"'\", '\"', \",\", \".\", \"!\", \":\", \";\", '#', '@']\n",
    "        lst1 = []\n",
    "        for i in str1:\n",
    "            lst1.append(i)\n",
    "        lst2 = []\n",
    "        words = []\n",
    "        for j in lst1:\n",
    "            if j in punctuation_chars:\n",
    "                continue\n",
    "            lst2.append(j)\n",
    "        str2 = ''.join(lst2)\n",
    "        return str2\n",
    "    lst3 = str3.split()\n",
    "    count1 = 0\n",
    "    for str4 in lst3:\n",
    "        str5 = strip_punctuation(str4)\n",
    "        str5 = str5.lower()\n",
    "        for str6 in negative_words:\n",
    "            if str5 == str6:\n",
    "                count1 += 1\n",
    "            else:\n",
    "                continue\n",
    "    return count1\n",
    "\n",
    "fhandle = open('project_twitter_data.csv', 'r')\n",
    "lines = fhandle.readlines()\n",
    "wordlst = []\n",
    "net_score = []\n",
    "retweet = []\n",
    "replies = []\n",
    "positive_list = []\n",
    "negative_list = []\n",
    "e = 0\n",
    "for rows in lines[1:]:\n",
    "    wordlst = rows.strip().split(',')\n",
    "    tweet = wordlst[0]\n",
    "    positive_word_nums = get_pos(tweet)\n",
    "    positive_list.append(positive_word_nums)\n",
    "    negative_word_nums = get_neg(tweet)\n",
    "    negative_list.append(negative_word_nums)\n",
    "    net_score.append(positive_num_words[e] - negative_word_nums[e])\n",
    "    retweet.append(wordlst[1])\n",
    "    replies.append(wordlst[2])\n",
    "    e += 1\n",
    "fhandle.close()\n",
    "fhandle2 = open('resulting_data.csv','w')\n",
    "fhandle2.write('Number of Retweets,Number of Replies,Positive Score,Negative Score,Net Score\\n')\n",
    "\n",
    "count2 = 0\n",
    "for count2 in fhandle2:\n",
    "    fhandle.write('{},{},{},{},{}\\n'.format(retweet[count2],replies[count2],positive_list[count2],negative_list[count2],net_score[count2]))\n",
    "    count2 += 1\n",
    "    \n",
    "    "
   ]
  },
  {
   "cell_type": "code",
   "execution_count": null,
   "metadata": {},
   "outputs": [],
   "source": [
    "fhandle = open('project_twitter_data.csv', 'r')\n",
    "lines = fhandle.readlines()\n",
    "wordlst = []\n",
    "net_score = []\n",
    "retweet = []\n",
    "replies = []\n",
    "positive_list = []\n",
    "negative_list = []\n",
    "e = 0\n",
    "for rows in lines[1:]:\n",
    "    wordlst = rows.strip().split(',')\n",
    "    tweet = wordlst[0]\n",
    "    positive_word_nums = get_pos(tweet)\n",
    "    positive_list.append(positive_word_nums)\n",
    "    negative_word_nums = get_neg(tweet)\n",
    "    negative_list.append(negative_word_nums)\n",
    "    net_score.append(positive_num_words[e] - negative_word_nums[e])\n",
    "    retweet.append(wordlst[1])\n",
    "    replies.append(wordlst[2])\n",
    "    e += 1\n",
    "fhandle.close()\n",
    "fhandle2 = open('resulting_data.csv','w')\n",
    "fhandle2.write('Number of Retweets,Number of Replies,Positive Score,Negative Score,Net Score\\n')\n",
    "\n",
    "count2 = 0\n",
    "for count2 in fhandle2:\n",
    "    fhandle.write('{},{},{},{},{}\\n'.format(retweet[count2],replies[count2],positive_list[count2],negative_list[count2],net_score[count2]))\n",
    "    count2 += 1\n",
    "    \n",
    "    "
   ]
  },
  {
   "cell_type": "code",
   "execution_count": null,
   "metadata": {},
   "outputs": [],
   "source": [
    "def get_pos(str3):\n",
    "    punctuation_chars = [\"'\", '\"', \",\", \".\", \"!\", \":\", \";\", '#', '@']\n",
    "    positive_words = []\n",
    "    with open(\"positive_words.txt\") as pos_f:\n",
    "        for lin in pos_f:\n",
    "            if lin[0] != ';' and lin[0] != '\\n':\n",
    "                positive_words.append(lin.strip())\n",
    "    def strip_punctuation(str1):\n",
    "        punctuation_chars = [\"'\", '\"', \",\", \".\", \"!\", \":\", \";\", '#', '@']\n",
    "        lst1 = []\n",
    "        for i in str1:\n",
    "            lst1.append(i)\n",
    "        lst2 = []\n",
    "        words = []\n",
    "        for j in lst1:\n",
    "            if j in punctuation_chars:\n",
    "                continue\n",
    "            lst2.append(j)\n",
    "        str2 = ''.join(lst2)\n",
    "        return str2\n",
    "    lst3 = str3.split()\n",
    "    count1 = 0\n",
    "    for str4 in lst3:\n",
    "        str5 = strip_punctuation(str4)\n",
    "        str5 = str5.lower()\n",
    "        for str6 in positive_words:\n",
    "            if str5 == str6:\n",
    "                count1 += 1\n",
    "            else:\n",
    "                continue\n",
    "    return count1\n",
    "def get_neg(str3):\n",
    "    punctuation_chars = [\"'\", '\"', \",\", \".\", \"!\", \":\", \";\", '#', '@']\n",
    "    negative_words = []\n",
    "    with open(\"negative_words.txt\") as pos_f:\n",
    "        for lin in pos_f:\n",
    "            if lin[0] != ';' and lin[0] != '\\n':\n",
    "                negative_words.append(lin.strip())\n",
    "    def strip_punctuation(str1):\n",
    "        punctuation_chars = [\"'\", '\"', \",\", \".\", \"!\", \":\", \";\", '#', '@']\n",
    "        lst1 = []\n",
    "        for i in str1:\n",
    "            lst1.append(i)\n",
    "        lst2 = []\n",
    "        words = []\n",
    "        for j in lst1:\n",
    "            if j in punctuation_chars:\n",
    "                continue\n",
    "            lst2.append(j)\n",
    "        str2 = ''.join(lst2)\n",
    "        return str2\n",
    "    lst3 = str3.split()\n",
    "    count1 = 0\n",
    "    for str4 in lst3:\n",
    "        str5 = strip_punctuation(str4)\n",
    "        str5 = str5.lower()\n",
    "        for str6 in negative_words:\n",
    "            if str5 == str6:\n",
    "                count1 += 1\n",
    "            else:\n",
    "                continue\n",
    "    return count1\n",
    "\n",
    "fhandle = open('project_twitter_data.csv', 'r')\n",
    "lines = fhandle.readlines()\n",
    "wordlst = []\n",
    "net_score = []\n",
    "retweet = []\n",
    "replies = []\n",
    "positive_list = []\n",
    "negative_list = []\n",
    "e = 0\n",
    "for rows in lines[1:]:\n",
    "    wordlst = rows.strip().split(',')\n",
    "    tweet = wordlst[0]\n",
    "    positive_word_nums = get_pos(tweet)\n",
    "    positive_list.append(positive_word_nums)\n",
    "    negative_word_nums = get_neg(tweet)\n",
    "    negative_list.append(negative_word_nums)\n",
    "    net_score.append(positive_word_nums - negative_word_nums)\n",
    "    retweet.append(wordlst[1])\n",
    "    replies.append(wordlst[2])\n",
    "    e += 1\n",
    "fhandle.close()\n",
    "fhandle2 = open('resulting_data.csv','w')\n",
    "fhandle2.write('Number of Retweets,Number of Replies,Positive Score,Negative Score,Net Score\\n')\n",
    "\n",
    "count2 = 0\n",
    "for count2 in fhandle2:\n",
    "    fhandle2.write('{},{},{},{},{}\\n'.format(retweet[count2],replies[count2],positive_list[count2],negative_list[count2],net_score[count2]))\n",
    "    print(fhandle2.readlines())\n",
    "    count2 += 1\n",
    "fhandle2.close()\n",
    "    \n",
    "\n",
    "    \n",
    "    "
   ]
  },
  {
   "cell_type": "code",
   "execution_count": null,
   "metadata": {},
   "outputs": [],
   "source": [
    "import sys\n",
    "sys.setExecutionLimit(10000000)\n",
    "\n",
    "def get_pos(str3):\n",
    "    punctuation_chars = [\"'\", '\"', \",\", \".\", \"!\", \":\", \";\", '#', '@']\n",
    "    positive_words = []\n",
    "    with open(\"positive_words.txt\") as pos_f:\n",
    "        for lin in pos_f:\n",
    "            if lin[0] != ';' and lin[0] != '\\n':\n",
    "                positive_words.append(lin.strip())\n",
    "    def strip_punctuation(str1):\n",
    "        punctuation_chars = [\"'\", '\"', \",\", \".\", \"!\", \":\", \";\", '#', '@']\n",
    "        lst1 = []\n",
    "        for i in str1:\n",
    "            lst1.append(i)\n",
    "        lst2 = []\n",
    "        words = []\n",
    "        for j in lst1:\n",
    "            if j in punctuation_chars:\n",
    "                continue\n",
    "            lst2.append(j)\n",
    "        str2 = ''.join(lst2)\n",
    "        return str2\n",
    "    lst3 = str3.split()\n",
    "    count1 = 0\n",
    "    for str4 in lst3:\n",
    "        str5 = strip_punctuation(str4)\n",
    "        str5 = str5.lower()\n",
    "        for str6 in positive_words:\n",
    "            if str5 == str6:\n",
    "                count1 += 1\n",
    "            else:\n",
    "                continue\n",
    "    return count1\n",
    "def get_neg(str3):\n",
    "    punctuation_chars = [\"'\", '\"', \",\", \".\", \"!\", \":\", \";\", '#', '@']\n",
    "    negative_words = []\n",
    "    with open(\"negative_words.txt\") as pos_f:\n",
    "        for lin in pos_f:\n",
    "            if lin[0] != ';' and lin[0] != '\\n':\n",
    "                negative_words.append(lin.strip())\n",
    "    def strip_punctuation(str1):\n",
    "        punctuation_chars = [\"'\", '\"', \",\", \".\", \"!\", \":\", \";\", '#', '@']\n",
    "        lst1 = []\n",
    "        for i in str1:\n",
    "            lst1.append(i)\n",
    "        lst2 = []\n",
    "        words = []\n",
    "        for j in lst1:\n",
    "            if j in punctuation_chars:\n",
    "                continue\n",
    "            lst2.append(j)\n",
    "        str2 = ''.join(lst2)\n",
    "        return str2\n",
    "    lst3 = str3.split()\n",
    "    count1 = 0\n",
    "    for str4 in lst3:\n",
    "        str5 = strip_punctuation(str4)\n",
    "        str5 = str5.lower()\n",
    "        for str6 in negative_words:\n",
    "            if str5 == str6:\n",
    "                count1 += 1\n",
    "            else:\n",
    "                continue\n",
    "    return count1\n",
    "\n",
    "fhandle = open('project_twitter_data.csv', 'r')\n",
    "lines = fhandle.readlines()\n",
    "wordlst = []\n",
    "net_score = []\n",
    "retweet = []\n",
    "replies = []\n",
    "positive_list = []\n",
    "negative_list = []\n",
    "e = 0\n",
    "for rows in lines[1:]:\n",
    "    wordlst = rows.strip().split(',')\n",
    "    tweet = wordlst[0]\n",
    "    positive_word_nums = get_pos(tweet)\n",
    "    positive_list.append(positive_word_nums)\n",
    "    negative_word_nums = get_neg(tweet)\n",
    "    negative_list.append(negative_word_nums)\n",
    "    net_score.append(positive_word_nums - negative_word_nums)\n",
    "    retweet.append(wordlst[1])\n",
    "    replies.append(wordlst[2])\n",
    "    e += 1\n",
    "fhandle.close()\n",
    "fhandle2 = open('resulting_data.csv','w')\n",
    "fhandle2.write('Number of Retweets,Number of Replies,Positive Score,Negative Score,Net Score\\n')\n",
    "for kl in range(9):\n",
    "    fhandle2.write('{},{},{},{},{}\\n'.format(retweet[kl],replies[kl],positive_list[kl],negative_list[kl],net_score[kl]))\n",
    "    print(fhandle2.readlines())\n",
    "fhandle2.close()"
   ]
  },
  {
   "cell_type": "code",
   "execution_count": null,
   "metadata": {},
   "outputs": [],
   "source": [
    "\n",
    "['3', '1', '1', '3', '6', '9', '19', '0', '0', '82', '0', '0', '47', '2', '0', '0', '4', '19', '0']\n",
    "['0', '0', '2', '1', '0', '5', '0', '0', '0', '2', '0', '0', '0', '1', '2', '0', '6', '0', '0']\n",
    "[0, 2, 1, 1, 2, 2, 2, 0, 0, 4, 0, 1, 2, 1, 1, 2, 3, 3, 1]\n",
    "[0, 2, 1, 1, 2, 2, 2, 0, 0, 4, 0, 1, 2, 1, 1, 2, 3, 3, 1]\n",
    "[0, 0, 1, 1, 2, 2, 2, -3, -2, 4, -1, 1, 2, 1, 1, 1, 3, 2, 0]"
   ]
  },
  {
   "cell_type": "code",
   "execution_count": null,
   "metadata": {},
   "outputs": [],
   "source": [
    "# json module:\n",
    "# json.loads(string) function can be used to take input a string and return it as a dictionary or list in json format\n",
    "# json.dumps(dictionary/list , sort_key = True/False, indent = 2) First parameter takes the object, second optional parameter is\n",
    "# for sorting the keys or elements alphabetically or lowest to highest, indent parameter is for producing indent between lines:\n",
    "# the dumps takes a dictionary and returns a json formated string\n",
    "# Json string  --------> dictionary/list * use json.loads\n",
    "# dictionary/list -----> json formatted string *use json.dumps\n",
    "import json\n",
    "a_string = '\\n\\n\\n{\\n \"resultCount\":25,\\n \"results\": [\\n{\"wrapperType\":\"track\", \"kind\":\"podcast\", \"collectionId\":10892}]}'\n",
    "print(a_string)\n",
    "e = json.loads(a_string)\n",
    "print(\"------\")\n",
    "print(type(e))\n",
    "print(e.keys())\n",
    "print(e['resultCount'])\n",
    "# print(a_string['resultCount'])\n",
    "\n",
    "def pretty(obj):\n",
    "    return json.dumps(obj, sort_keys=True, indent=2)\n",
    "\n",
    "d = {'key1': {'c': True, 'a': 90, '5': 50}, 'key2':{'b': 3, 'c': \"yes\"}}\n",
    "\n",
    "print(d)\n",
    "print('--------')\n",
    "print(pretty(d))\n"
   ]
  },
  {
   "cell_type": "code",
   "execution_count": null,
   "metadata": {},
   "outputs": [],
   "source": [
    "# Nested data structures and concept for copying nested data stuctures:\n",
    "\n",
    "from copy import *\n",
    "lst = [1,2,3,[1,2,3,[3,4,2]],[2,3,1,[2,3,46,3]]]\n",
    "\n",
    "copied_lst = deepcopy(lst)\n",
    "print(lst)\n",
    "print(copied_lst)\n",
    "# Always use copy module to copy nested data structures or it will create a shallow copy of the original where the inner list\n",
    "# would point to the original inner list item as a result changing it would change the original item"
   ]
  },
  {
   "cell_type": "code",
   "execution_count": null,
   "metadata": {},
   "outputs": [],
   "source": [
    "#Maps , filters:\n",
    "\n",
    "# method one using map and filter function:\n",
    "\n",
    "lst = [1,2,3,4,7,90,324,273,0,-1,7,5]\n",
    "def lst2(lst999):\n",
    "    return list(map(lambda x:x*2,lst999)) #list(map(<function returns the transform>,<sequence>))\n",
    "print(lst2(lst))\n",
    "lst3 = filter(lambda x: x >= 5, lst )   #list(filter(<function returns a boolean>,<sequence>))\n",
    "print(list(lst3))\n",
    "\n",
    "#list comprehension:\n",
    "lst4 = [2*x for x in lst]   #this is the same as the lst2 format [<transformer/Element to append to the list> for <iterator> in <sequence> if <filter>]\n",
    "print(lst4)"
   ]
  },
  {
   "cell_type": "code",
   "execution_count": null,
   "metadata": {},
   "outputs": [],
   "source": [
    "\"\"\"Below we have provided two lists of numbers, L1 and L2. Using zip and list comprehension, create a new list, L3, that sums \n",
    "the two numbers if the number from L1 is greater than 10 and the number from L2 is less than 5. \n",
    "This can be accomplished in one line of code.\"\"\"\n",
    "L1 = [1, 5, 2, 16, 32, 3, 54, 8, 100]\n",
    "L2 = [1, 3, 10, 2, 42, 2, 3, 4, 3]\n",
    "L3 = [i + j for i,j in list(zip(L1,L2)) if i > 10 and j < 5]\n",
    "print(L3)"
   ]
  },
  {
   "cell_type": "code",
   "execution_count": null,
   "metadata": {},
   "outputs": [],
   "source": [
    "x = [5]\n",
    "y = x\n",
    "x = x.append(5)\n",
    "print(y)"
   ]
  },
  {
   "cell_type": "code",
   "execution_count": null,
   "metadata": {},
   "outputs": [],
   "source": [
    "# requests modules allow to get information or data from a website\n",
    "# r = requests.get(<website link> ,params = <dictionary>) #this returns response object\n",
    "# python_data = json.loads(t.text)\n",
    "\n",
    "# r.text (it is an attribute which fetches the text)\n",
    "# r.url (it generates the url for the site)\n",
    "# r.json() returns a python object (a list of dictionaries)\n",
    "# requests_with_cache module allows caching of data\n",
    "\n",
    "# r = requests_with_cache(<baseurl>, params = <dictionaries>, permanent_cache_file = <filename>)\n"
   ]
  },
  {
   "cell_type": "code",
   "execution_count": null,
   "metadata": {},
   "outputs": [],
   "source": [
    "import json\n",
    "r = {\"Similar\": {\"Info\": [{\"Name\": \"Black Panther\", \"Type\": \"movie\"}], \"Results\": [{\"Name\": \"Captain Marvel\", \"Type\": \"movie\"}, {\"Name\": \"Avengers: Infinity War\", \"Type\": \"movie\"}, {\"Name\": \"Ant-Man And The Wasp\", \"Type\": \"movie\"}, {\"Name\": \"Deadpool 2\", \"Type\": \"movie\"}, {\"Name\": \"Jumanji: Welcome To The Jungle\", \"Type\": \"movie\"}, {\"Name\": \"The Fate Of The Furious\", \"Type\": \"movie\"}, {\"Name\": \"Justice League\", \"Type\": \"movie\"}, {\"Name\": \"Ready Player One\", \"Type\": \"movie\"}, {\"Name\": \"Solo: A Star Wars Story\", \"Type\": \"movie\"}, {\"Name\": \"Thor: Ragnarok\", \"Type\": \"movie\"}, {\"Name\": \"Venom\", \"Type\": \"movie\"}, {\"Name\": \"Avengers: Endgame\", \"Type\": \"movie\"}, {\"Name\": \"Power Rangers\", \"Type\": \"movie\"}, {\"Name\": \"Spider-Man: Homecoming\", \"Type\": \"movie\"}, {\"Name\": \"Independence Day: Resurgence\", \"Type\": \"movie\"}, {\"Name\": \"Daddy's Home 2\", \"Type\": \"movie\"}, {\"Name\": \"Skyscraper\", \"Type\": \"movie\"}, {\"Name\": \"Aquaman\", \"Type\": \"movie\"}, {\"Name\": \"Jurassic World: Fallen Kingdom\", \"Type\": \"movie\"}, {\"Name\": \"The Divergent Series: Allegiant\", \"Type\": \"movie\"}]}}\n",
    "p = json.dumps(r,indent =2)\n",
    "print(p)"
   ]
  },
  {
   "cell_type": "code",
   "execution_count": null,
   "metadata": {},
   "outputs": [],
   "source": [
    "import requests_with_caching\n",
    "import json\n",
    "\n",
    "\n",
    "# some invocations that we use in the automated tests; uncomment these if you are getting errors and want better error messages\n",
    "# get_sorted_recommendations([\"Bridesmaids\", \"Sherlock Holmes\"])\n",
    "def get_movies_from_tastedive(name):\n",
    "    parameters = {\"q\": name, \"type\": \"movies\", \"limit\": 5}\n",
    "    tastedive_response = requests_with_caching.get(\"https://tastedive.com/api/similar\", params=parameters)\n",
    "    py_data = json.loads(tastedive_response.text)\n",
    "    return py_data\n",
    "\n",
    "\n",
    "def extract_movie_titles(dic_from_get_movies):\n",
    "    movie_title = list()\n",
    "    movie_info = dic_from_get_movies[\"Similar\"][\"Results\"]\n",
    "    for movie in movie_info:\n",
    "        movie_title.append(movie[\"Name\"])\n",
    "    return movie_title\n",
    "\n",
    "\n",
    "def get_related_titles(list_of_movie_title):\n",
    "    print(list_of_movie_title)\n",
    "    new_list = list()\n",
    "    for title in list_of_movie_title:\n",
    "        a = get_movies_from_tastedive(title)\n",
    "        b = extract_movie_titles(a)\n",
    "        for movie in b:\n",
    "            if movie not in new_list:\n",
    "                new_list.append(movie)\n",
    "    return new_list\n",
    "\n",
    "\n",
    "def get_movie_data(movie_name):\n",
    "    parameters = {'t': movie_name, 'r': 'json'}\n",
    "    omdbapi_response = requests_with_caching.get('http://www.omdbapi.com/', params=parameters)\n",
    "    a = json.loads(omdbapi_response.text)\n",
    "    return a\n",
    "\n",
    "\n",
    "def get_movie_rating(movie_dict):\n",
    "    if len(movie_dict['Ratings']) > 1:\n",
    "        if movie_dict['Ratings'][1]['Source'] == 'Rotten Tomatoes':\n",
    "            rotten_rating = movie_dict['Ratings'][1]['Value'][:2]\n",
    "            rotten_rating = int(rotten_rating)\n",
    "        else:\n",
    "            rotten_rating = 0\n",
    "\n",
    "    return rotten_rating\n",
    "\n",
    "\n",
    "def getkey(item):\n",
    "    return item[1]\n",
    "\n",
    "\n",
    "def get_sorted_recommendations(list_of_movies):\n",
    "    related_movies = get_related_titles(list_of_movies)\n",
    "    ratings = list()\n",
    "    sorted_list = list()\n",
    "    for movie in related_movies:\n",
    "        a = get_movie_data(movie)\n",
    "        ratings.append(get_movie_rating(a))\n",
    "\n",
    "    temp_tuple1 = zip(related_movies, ratings)\n",
    "    temp_tuple2 = sorted(temp_tuple1, key=getkey, reverse=True)\n",
    "    print(temp_tuple2)\n",
    "    for i in range(len(temp_tuple2) - 1):\n",
    "        if temp_tuple2[i][0] not in sorted_list:\n",
    "            if temp_tuple2[i][1] == temp_tuple2[i + 1][1]:\n",
    "                if temp_tuple2[i][0] < temp_tuple2[i + 1][0]:\n",
    "                    sorted_list.append(temp_tuple2[i + 1][0])\n",
    "                    sorted_list.append(temp_tuple2[i][0])\n",
    "            else:\n",
    "                sorted_list.append(temp_tuple2[i][0])\n",
    "\n",
    "    print(sorted_list)\n",
    "\n",
    "    return sorted_list"
   ]
  },
  {
   "cell_type": "code",
   "execution_count": null,
   "metadata": {},
   "outputs": [],
   "source": [
    "#Playing with datamuse API\n",
    "import requests\n",
    "import json\n",
    "\n",
    "def sounds_like (sl_word, upto=10):\n",
    "    baseurl = 'https://api.datamuse.com/words'\n",
    "    datamuse_response = requests.get(baseurl, params = {'sl':sl_word})\n",
    "    data_list = json.loads(datamuse_response.text)\n",
    "    newlist = []\n",
    "    for i in data_list[:upto]:\n",
    "        newlist.append(i['word'])\n",
    "    return newlist\n",
    "def rhymes_with(word, upto = 10):\n",
    "    baseurl = 'https://api.datamuse.com/words'\n",
    "    datamuse_response = requests.get(baseurl, params = {'rel_rhy': word})\n",
    "    data_list = json.loads(datamuse_response.text)\n",
    "    newlist = []\n",
    "    for i in data_list[:upto]:\n",
    "        newlist.append(i['word'])\n",
    "    return newlist\n",
    "\n",
    "user_word = input('Enter a word:')\n",
    "print('{} rhymes with: {}'.format(user_word, rhymes_with(user_word)))\n",
    "print('{} sounds like: {}'.format(user_word, sounds_like(user_word)))"
   ]
  },
  {
   "cell_type": "code",
   "execution_count": null,
   "metadata": {
    "scrolled": false
   },
   "outputs": [],
   "source": [
    "import requests\n",
    "import json\n",
    "singerName = input('Enter the name of the singer: ')\n",
    "data = requests.get('https://itunes.apple.com/search', params = {'term': singerName})\n",
    "lst = json.loads(data.text)\n",
    "newlist = []\n",
    "lst2 = lst['results']\n",
    "print('Songs by the singer: \\n')\n",
    "j = 1\n",
    "for i in lst2:\n",
    "    \n",
    "    print(j,i['trackName'])\n",
    "    j += 1"
   ]
  },
  {
   "cell_type": "code",
   "execution_count": null,
   "metadata": {},
   "outputs": [],
   "source": [
    "import requests\n",
    "import json\n",
    "import copy\n",
    "\n",
    "nameofcountry = input('Enter country name: ')\n",
    "nameofcountry = nameofcountry.capitalize()\n",
    "data = requests.get('https://api.covid19api.com/summary')\n",
    "data_list = json.loads(data.text)\n",
    "lst = copy.deepcopy(data_list['Countries'])\n",
    "#print(lst)\n",
    "for i in lst:\n",
    "    if i['Country'] == nameofcountry:\n",
    "        print('New Confirmed Cases: ', i['NewConfirmed'])\n",
    "        print('Total Confirmed Cases: ',i['TotalConfirmed'])\n",
    "        break"
   ]
  },
  {
   "cell_type": "code",
   "execution_count": null,
   "metadata": {},
   "outputs": [],
   "source": [
    "#For each word in the list verbs, add an -ing ending\n",
    "#Overwrite the old list so that verbs has the same words with ing at the end of each one.\n",
    "verbs = ['work', 'do', 'walk', 'talk']\n",
    "for i in range(len(verbs)):\n",
    "    verbs[i] +='ing'\n",
    "print(verbs)\n",
    "    "
   ]
  },
  {
   "cell_type": "code",
   "execution_count": null,
   "metadata": {},
   "outputs": [],
   "source": [
    "classes = [\"MATH 150\", \"PSYCH 111\", \"PSYCH 313\", \"PSYCH 412\", \"MATH 300\", \"MATH 404\", \"MATH 206\", \"ENG 100\", \"ENG 103\", \"ENG 201\", \"PSYCH 508\", \"ENG 220\", \"ENG 125\", \"ENG 124\"]\n",
    "upper = []\n",
    "lower = []\n",
    "for i in classes:\n",
    "    x = int(i[-3:])\n",
    "    if (x>=300 and i[:4]=='MATH' or x>=200 and i[:3]==\"ENG\" or x>=400 and i[:5]==\"PSYCH\"):\n",
    "        upper.append(i)\n",
    "    else:\n",
    "        lower.append(i)\n",
    "\n",
    "print(upper)\n",
    "print(lower)\n",
    "        "
   ]
  },
  {
   "cell_type": "code",
   "execution_count": null,
   "metadata": {},
   "outputs": [],
   "source": [
    "classes = [\"MATH 150\", \"PSYCH 111\", \"PSYCH 313\", \"PSYCH 412\", \"MATH 300\", \"MATH 404\", \"MATH 206\", \"ENG 100\", \"ENG 103\", \"ENG 201\", \"PSYCH 508\", \"ENG 220\", \"ENG 125\", \"ENG 124\"]\n",
    "classes.insert(0,\"Hey\")\n",
    "print(classes)"
   ]
  },
  {
   "cell_type": "code",
   "execution_count": null,
   "metadata": {},
   "outputs": [],
   "source": [
    "def power(a):\n",
    "    a += x\n",
    "    return a\n",
    "x=5\n",
    "print(power(1))"
   ]
  },
  {
   "cell_type": "code",
   "execution_count": null,
   "metadata": {},
   "outputs": [],
   "source": [
    "tups = (3,4)\n",
    "\n",
    "def func(x,y):\n",
    "    return x+y\n",
    "\n",
    "print(func(*tups)) # * is needed to pass a tuple as a parameter in a function , this star unpacks the tuple"
   ]
  },
  {
   "cell_type": "code",
   "execution_count": null,
   "metadata": {},
   "outputs": [],
   "source": [
    "#Classes and inheritance\n",
    "\n",
    "class Point():\n",
    "    def __init__(self,x,y): #__init__ is an initializer method, self is point1 and self.x is point1.x which is set to 10\n",
    "        self.x = x\n",
    "        self.y = y\n",
    "    def getX(self): # getX and getY are methods for the object Point\n",
    "        return self.x\n",
    "    def getY(self):\n",
    "        return self.y\n",
    "    def __str__(self):\n",
    "        return \"Point ({}, {})\".format(self.x,self.y)\n",
    "\n",
    "\n",
    "point1 = Point(10,5)\n",
    "print(point1) # This __str__ causes to be printed\n",
    "print(point1.getY())"
   ]
  },
  {
   "cell_type": "code",
   "execution_count": null,
   "metadata": {},
   "outputs": [],
   "source": [
    "class distCal():\n",
    "    def __init__(self, num1, num2):\n",
    "        self.x = num1\n",
    "        self.y = num2\n",
    "    def calculate(self):\n",
    "        return self.y * self.x\n",
    "point1 = distCal(5,10)\n",
    "print(point1.calculate())"
   ]
  },
  {
   "cell_type": "code",
   "execution_count": null,
   "metadata": {},
   "outputs": [],
   "source": [
    "class AppleBasket():\n",
    "    def __init__(self, x, y):\n",
    "        self.apple_color = x\n",
    "        self.apple_quantity = y\n",
    "    def increase(self):\n",
    "         self.apple_quantity += 1\n",
    "    def __str__(self):\n",
    "        return \"A basket of {} {} apples.\".format(self.apple_quantity, self.apple_color)\n",
    "a = AppleBasket('blue',5)\n",
    "print(a.increase())"
   ]
  },
  {
   "cell_type": "code",
   "execution_count": null,
   "metadata": {},
   "outputs": [],
   "source": [
    "#Class Inheritance \n",
    "\n",
    "# Suppose we a class name person which holds some information for that person:\n",
    "class Person():\n",
    "    def __init__(self, name, age, sex):\n",
    "        self.name = name \n",
    "        self.age = age\n",
    "        self.sex = sex\n",
    "    def __str__(self):\n",
    "        return 'Name: {}\\nAge:{}\\nSex:{}'.format(self.name, self.age, self.sex)\n",
    "    \n",
    "\n",
    "# now suppose we need a class to represnt a student , we can INHERIT the properities already present in class Person and add\n",
    "# the extra features we need for student:\n",
    "class Student(Person): # Inherating all the properties of Person class\n",
    "    def __init__(self, name , age , sex,university):\n",
    "        Person.__init__(self, name, age, sex)\n",
    "        self.uni = university\n",
    "    def Class(self):\n",
    "        return 'Class: {}'.format(self.uni)\n",
    "\n",
    "person1 = Student('Afridi', 23, 'M',\"NSU\")\n",
    "#print(person1.Class())\n",
    "print(person1)"
   ]
  },
  {
   "cell_type": "code",
   "execution_count": null,
   "metadata": {},
   "outputs": [],
   "source": [
    "import PIL\n",
    "PIL.__version__\n",
    "help(PIL)"
   ]
  },
  {
   "cell_type": "code",
   "execution_count": null,
   "metadata": {},
   "outputs": [],
   "source": [
    "from PIL import Image\n",
    "#dir(Image)\n",
    "help(Image.open)"
   ]
  },
  {
   "cell_type": "code",
   "execution_count": null,
   "metadata": {},
   "outputs": [],
   "source": [
    "from PIL import Image\n",
    "from IPython.display import display\n",
    "\n",
    "file = \"Me.jpg\"\n",
    "image = Image.open(file)\n",
    "\n",
    "display(image)"
   ]
  },
  {
   "cell_type": "code",
   "execution_count": null,
   "metadata": {},
   "outputs": [],
   "source": [
    "#Write a Python function that takes a sequence of numbers and determines\n",
    "#whether all the numbers are different from each other\n",
    "\n",
    "def duplicate(lst):\n",
    "    count = 0\n",
    "    for i in range(len(lst)):\n",
    "        for j in lst:\n",
    "            if int(j) == int(lst[i]):\n",
    "                count += 1\n",
    "    if count > len(lst):\n",
    "        return \"Duplicates Found\"\n",
    "    else:\n",
    "        return \"No Duplicates Found\"\n",
    "\n",
    "num_str = str(input(\"Enter a string of numbers seperated by commas: \"))\n",
    "num = num_str.strip().split(',')\n",
    "\n",
    "try:\n",
    "    print(duplicate(num))\n",
    "except:\n",
    "    print(\"Try again!\")"
   ]
  },
  {
   "cell_type": "markdown",
   "metadata": {},
   "source": [
    "# Numpy"
   ]
  },
  {
   "cell_type": "code",
   "execution_count": 31,
   "metadata": {},
   "outputs": [
    {
     "data": {
      "text/plain": [
       "array([1, 3])"
      ]
     },
     "execution_count": 31,
     "metadata": {},
     "output_type": "execute_result"
    }
   ],
   "source": [
    "import numpy as np #Importing the numpy library\n",
    "\n",
    "# 1D array in numpy:\n",
    "# Array is a new data type which is accessable using the numpy library.\n",
    "# Array's represent multidimentional matrices which can be used for various applications\n",
    "\n",
    "arr1 = np.array([1,2,3,4,7,-1,0])\n",
    "#print(arr1)\n",
    "\n",
    "# 2D array in numpy:\n",
    "# It is quite similar to 1D array except there will be a list contaning 2 or more lists\n",
    "\n",
    "arr2 = np.array([ [1,2,3,4,5], [2,34,-1,0,4], [2,3,11,24,20]]) #Each list represents the rows of the matrix\n",
    "#print(arr2)\n",
    "\n",
    "# To check the shape of the array we can use .shape method:\n",
    "arr1.shape\n",
    "arr2.shape\n",
    "\n",
    "#Let say we want to create a sequential array of any size and length \n",
    "#we can do that by using the .arange(start,end(not including),increment) method:\n",
    "\n",
    "arr3 = np.arange(1,5,1)\n",
    "arr3\n",
    "#Let us shape it as we want:\n",
    "arr3.reshape(2,2) #Since our array has 4 elements we can reshape it to a 2x2 matrix\n",
    "\n",
    "# linspace(start,end(inclusive),how many parts):\n",
    "#linspace method will divide a range of values into certain number of parts eg. the numbers from 0 to 5 are evently \n",
    "#distributed to 5 parts:\n",
    "\n",
    "arr4 = np.linspace(0,5,5)\n",
    "#print(arr4)\n",
    "arr5 = np.linspace(1,2,87)\n",
    "#print(arr5)\n",
    "\n",
    "#.resize(dimensions) will resize a matrix to the given dimensions with zeros in positions which don't have a value:\n",
    "arr1.resize(5,5)\n",
    "#print(arr1)\n",
    "\n",
    "# ones and zeros matrix:\n",
    "arr6 = np.ones([2,2])\n",
    "arr7 = np.zeros([5,4])\n",
    "#print(arr6)\n",
    "#print(arr7)\n",
    "\n",
    "#diagonal 1 matrix:\n",
    "arr8 = np.eye(8)\n",
    "#print(arr8)\n",
    "\n",
    "#for a custom diagonal of a certain array use .diag(array):\n",
    "arr9 = np.array([1,24,6])\n",
    "arr10 = np.diag(arr9)\n",
    "#print(arr10)\n",
    "\n",
    "## Array Operations:\n",
    "\n",
    "#print(np.array([1,2,3]*3))\n",
    "#print(np.repeat([1,2,3],3)) # Run and see the difference\n",
    "\n",
    "# .ndim method: tells the dimentions of matrix\n",
    "arr10.ndim \n",
    "\n",
    "#we can specify how much memory we want to allocate to an array:\n",
    "\n",
    "arr11 = np.array([1,2,3], dtype = 'int16') # default dtype is int32\n",
    "arr11.itemsize # this methods tells us how many BYTES of memory is allocated e.g for this 2 bytes\n",
    "\n",
    "# Accessing specific elements/rows and columns using slicing\n",
    "\n",
    "arr12 = np.array([[1,2,3,4],[-1,-2,-3,-4],[4,3,-2,-1],[0,0,0,0]])\n",
    "arr12[2,3] #The elements in position 2,3\n",
    "#lets say we want the first row:\n",
    "arr12[0,:] \n",
    "# similarly for the first column:\n",
    "arr12[:,0]\n",
    "#lets say i want the middle square:\n",
    "arr12[1:3,1:3]\n",
    "arr12[1:,1:]\n",
    "#we can also add an iterating parameter:\n",
    "arr12[0,::2] #this 2 will take the second elements only\n",
    "\n"
   ]
  },
  {
   "cell_type": "code",
   "execution_count": 42,
   "metadata": {},
   "outputs": [
    {
     "data": {
      "text/plain": [
       "array([[1, 1, 1, 1, 1],\n",
       "       [1, 0, 0, 0, 1],\n",
       "       [1, 0, 9, 0, 1],\n",
       "       [1, 0, 0, 0, 1],\n",
       "       [1, 1, 1, 1, 1]])"
      ]
     },
     "execution_count": 42,
     "metadata": {},
     "output_type": "execute_result"
    }
   ],
   "source": [
    "import numpy as np\n",
    "arr1 = np.ones((5,5), dtype = 'int32')\n",
    "arr1[1:4,1:4] = 0\n",
    "arr1[2,2 ] = 9\n",
    "arr1"
   ]
  },
  {
   "cell_type": "code",
   "execution_count": 26,
   "metadata": {},
   "outputs": [
    {
     "name": "stdout",
     "output_type": "stream",
     "text": [
      "Enter a text: aabb\n",
      "{'a': 2, 'b': 2}\n",
      "The most common elements is 'a' and is present 2 times\n"
     ]
    }
   ],
   "source": [
    " #Write a Python program to find the most common elements and their counts of a specified text.\n",
    "string1 = str(input(\"Enter a text: \"))\n",
    "dict1 = {}\n",
    "for i in string1:\n",
    "    if i not in dict1.keys():\n",
    "            dict1[i] = 1\n",
    "    else:\n",
    "        dict1[i] += 1\n",
    "\n",
    "lst1 = [x for x in dict1.values()]\n",
    "lst2 = [y for y in dict1.keys()]\n",
    "\n",
    "maxIndex = lst1.index(max(lst1))\n",
    "maxItem = lst2[maxIndex]\n",
    "print(dict1)\n",
    "\n",
    "print(\"The most common elements is '{}' and is present {} times\".format(maxItem,lst1[maxIndex]))"
   ]
  },
  {
   "cell_type": "code",
   "execution_count": 27,
   "metadata": {},
   "outputs": [
    {
     "name": "stdout",
     "output_type": "stream",
     "text": [
      "3.7.6 (default, Jan  8 2020, 20:23:39) [MSC v.1916 64 bit (AMD64)]\n"
     ]
    }
   ],
   "source": [
    "import sys\n",
    "print(sys.version)"
   ]
  },
  {
   "cell_type": "code",
   "execution_count": 40,
   "metadata": {},
   "outputs": [
    {
     "name": "stdout",
     "output_type": "stream",
     "text": [
      "Date:16-08-2020\n",
      "Time:20:14:05\n"
     ]
    }
   ],
   "source": [
    "import datetime\n",
    "cTime = datetime.datetime.now()\n",
    "print(cTime.strftime(\"Date:%d-%m-%Y\"))\n",
    "print(cTime.strftime(\"Time:%H:%M:%S\")) #need the method strftime to print in specific order"
   ]
  },
  {
   "cell_type": "code",
   "execution_count": null,
   "metadata": {},
   "outputs": [],
   "source": []
  },
  {
   "cell_type": "code",
   "execution_count": null,
   "metadata": {},
   "outputs": [],
   "source": []
  }
 ],
 "metadata": {
  "kernelspec": {
   "display_name": "Python 3",
   "language": "python",
   "name": "python3"
  },
  "language_info": {
   "codemirror_mode": {
    "name": "ipython",
    "version": 3
   },
   "file_extension": ".py",
   "mimetype": "text/x-python",
   "name": "python",
   "nbconvert_exporter": "python",
   "pygments_lexer": "ipython3",
   "version": "3.7.6"
  }
 },
 "nbformat": 4,
 "nbformat_minor": 4
}
