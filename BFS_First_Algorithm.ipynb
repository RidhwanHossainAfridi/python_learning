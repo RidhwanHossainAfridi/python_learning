{
  "nbformat": 4,
  "nbformat_minor": 0,
  "metadata": {
    "colab": {
      "provenance": [],
      "authorship_tag": "ABX9TyOs81jPcsX9h0bMp+dHNc2T",
      "include_colab_link": true
    },
    "kernelspec": {
      "name": "python3",
      "display_name": "Python 3"
    },
    "language_info": {
      "name": "python"
    }
  },
  "cells": [
    {
      "cell_type": "markdown",
      "metadata": {
        "id": "view-in-github",
        "colab_type": "text"
      },
      "source": [
        "<a href=\"https://colab.research.google.com/github/RidhwanHossainAfridi/python_learning/blob/main/BFS_First_Algorithm.ipynb\" target=\"_parent\"><img src=\"https://colab.research.google.com/assets/colab-badge.svg\" alt=\"Open In Colab\"/></a>"
      ]
    },
    {
      "cell_type": "code",
      "execution_count": 9,
      "metadata": {
        "colab": {
          "base_uri": "https://localhost:8080/"
        },
        "id": "F9Q1GU0TCgrY",
        "outputId": "334cb6c4-2ec3-44ec-e8f1-a3538405fbdb"
      },
      "outputs": [
        {
          "output_type": "stream",
          "name": "stdout",
          "text": [
            "{'A': False, 'B': False, 'C': False, 'D': False, 'E': False, 'F': False, 'G': False, 'H': False}\n",
            "{'A': -1, 'B': -1, 'C': -1, 'D': -1, 'E': -1, 'F': -1, 'G': -1, 'H': -1}\n",
            "{'A': None, 'B': None, 'C': None, 'D': None, 'E': None, 'F': None, 'G': None, 'H': None}\n",
            "['A', 'B', 'D', 'C', 'E', 'F', 'G', 'H']\n"
          ]
        }
      ],
      "source": [
        "from queue import Queue as Q\n",
        "\n",
        "adj_list = {\n",
        "    \"A\":[\"B\", \"D\"],\n",
        "    \"B\":[\"A\", \"C\"],\n",
        "    \"C\":[\"B\"],\n",
        "    \"D\":[\"A\",\"E\",\"F\"],\n",
        "    \"E\":[\"D\",\"F\",\"G\"],\n",
        "    \"F\":[\"D\",\"E\",\"H\"],\n",
        "    \"G\":[\"E\",\"H\"],\n",
        "    \"H\":[\"F\",\"G\"]\n",
        "}\n",
        "#bfs\n",
        "visited = {}\n",
        "level = {} #distance measurement\n",
        "parent = {}\n",
        "\n",
        "bfs_traversal_output = []\n",
        "que = Q()\n",
        "\n",
        "for node in adj_list.keys():\n",
        "  visited[node] = False\n",
        "  parent[node] = None\n",
        "  level[node] = -1\n",
        "\n",
        "print(visited)\n",
        "print(level)\n",
        "print(parent)\n",
        "\n",
        "source = \"A\"\n",
        "visited[source] = True\n",
        "level[source] = 0\n",
        "\n",
        "que.put(source)\n",
        "\n",
        "while not que.empty():\n",
        "  u = que.get()\n",
        "  bfs_traversal_output.append(u)\n",
        "\n",
        "  for v in adj_list[u]:\n",
        "    if not visited[v]:\n",
        "      visited[v] = True\n",
        "      parent[v] = u\n",
        "      level[v] = level[u]+1\n",
        "      que.put(v)\n",
        "\n",
        "print(bfs_traversal_output)"
      ]
    }
  ]
}